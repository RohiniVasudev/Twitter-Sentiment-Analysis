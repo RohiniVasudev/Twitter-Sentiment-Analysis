{
 "cells": [
  {
   "cell_type": "code",
   "execution_count": 1,
   "metadata": {},
   "outputs": [
    {
     "name": "stdout",
     "output_type": "stream",
     "text": [
      "Requirement already satisfied: tweepy in c:\\users\\lenovo\\anaconda3\\lib\\site-packages (3.9.0)\n",
      "Requirement already satisfied: requests-oauthlib>=0.7.0 in c:\\users\\lenovo\\anaconda3\\lib\\site-packages (from tweepy) (1.3.0)\n",
      "Requirement already satisfied: requests[socks]>=2.11.1 in c:\\users\\lenovo\\anaconda3\\lib\\site-packages (from tweepy) (2.22.0)\n",
      "Requirement already satisfied: six>=1.10.0 in c:\\users\\lenovo\\anaconda3\\lib\\site-packages (from tweepy) (1.14.0)\n",
      "Requirement already satisfied: oauthlib>=3.0.0 in c:\\users\\lenovo\\anaconda3\\lib\\site-packages (from requests-oauthlib>=0.7.0->tweepy) (3.1.0)\n",
      "Requirement already satisfied: chardet<3.1.0,>=3.0.2 in c:\\users\\lenovo\\anaconda3\\lib\\site-packages (from requests[socks]>=2.11.1->tweepy) (3.0.4)\n",
      "Requirement already satisfied: certifi>=2017.4.17 in c:\\users\\lenovo\\anaconda3\\lib\\site-packages (from requests[socks]>=2.11.1->tweepy) (2019.11.28)\n",
      "Requirement already satisfied: urllib3!=1.25.0,!=1.25.1,<1.26,>=1.21.1 in c:\\users\\lenovo\\anaconda3\\lib\\site-packages (from requests[socks]>=2.11.1->tweepy) (1.25.8)\n",
      "Requirement already satisfied: idna<2.9,>=2.5 in c:\\users\\lenovo\\anaconda3\\lib\\site-packages (from requests[socks]>=2.11.1->tweepy) (2.8)\n",
      "Requirement already satisfied: PySocks!=1.5.7,>=1.5.6; extra == \"socks\" in c:\\users\\lenovo\\anaconda3\\lib\\site-packages (from requests[socks]>=2.11.1->tweepy) (1.7.1)\n",
      "Requirement already satisfied: openpyxl in c:\\users\\lenovo\\anaconda3\\lib\\site-packages (3.0.3)\n",
      "Requirement already satisfied: et-xmlfile in c:\\users\\lenovo\\anaconda3\\lib\\site-packages (from openpyxl) (1.0.1)\n",
      "Requirement already satisfied: jdcal in c:\\users\\lenovo\\anaconda3\\lib\\site-packages (from openpyxl) (1.4.1)\n"
     ]
    }
   ],
   "source": [
    "!pip install tweepy\n",
    "!pip install openpyxl\n",
    "import numpy as np\n",
    "import pandas as pd\n",
    "import tweepy\n",
    "import json\n",
    "from tweepy import OAuthHandler"
   ]
  },
  {
   "cell_type": "code",
   "execution_count": 2,
   "metadata": {},
   "outputs": [],
   "source": [
    "consumer_key = 'YOUR-API-KEY'\n",
    "consumer_secret = 'YOUR-API-SECRET-KEY'\n",
    "access_token = 'YOUR-ACCESS-TOKEN'\n",
    "access_token_secret = 'YOUR-ACCESS-SECRET-TOKEN'"
   ]
  },
  {
   "cell_type": "code",
   "execution_count": 3,
   "metadata": {},
   "outputs": [],
   "source": [
    "auth = tweepy.OAuthHandler(consumer_key,consumer_secret)\n",
    "auth.set_access_token(access_token,access_token_secret)\n",
    "api = tweepy.API(auth)"
   ]
  },
  {
   "cell_type": "code",
   "execution_count": 22,
   "metadata": {},
   "outputs": [],
   "source": [
    "query = \"Covid 19\""
   ]
  },
  {
   "cell_type": "code",
   "execution_count": 23,
   "metadata": {},
   "outputs": [
    {
     "name": "stdout",
     "output_type": "stream",
     "text": [
      "Status(_api=<tweepy.api.API object at 0x000001EB5EECED48>, _json={'created_at': 'Sun Nov 22 14:02:45 +0000 2020', 'id': 1330512043154214912, 'id_str': '1330512043154214912', 'full_text': 'COVID-19: Donald Trump plays golf while world leaders discuss pandemic at G20 summit https://t.co/M4pB9MgYeL', 'truncated': False, 'display_text_range': [0, 108], 'entities': {'hashtags': [], 'symbols': [], 'user_mentions': [], 'urls': [{'url': 'https://t.co/M4pB9MgYeL', 'expanded_url': 'http://news.sky.com/story/covid-19-donald-trump-plays-golf-while-world-leaders-discuss-pandemic-at-g20-summit-12139126', 'display_url': 'news.sky.com/story/covid-19…', 'indices': [85, 108]}]}, 'metadata': {'iso_language_code': 'en', 'result_type': 'recent'}, 'source': '<a href=\"http://news.sky.com\" rel=\"nofollow\">SkyNews Alerts - Latest</a>', 'in_reply_to_status_id': None, 'in_reply_to_status_id_str': None, 'in_reply_to_user_id': None, 'in_reply_to_user_id_str': None, 'in_reply_to_screen_name': None, 'user': {'id': 7587032, 'id_str': '7587032', 'name': 'SkyNews', 'screen_name': 'SkyNews', 'location': 'London, UK', 'description': 'We take you to the heart of the stories that shape our world. \\n\\nFor breaking news, follow @SkyNewsBreak', 'url': 'https://t.co/SnOv0usOtw', 'entities': {'url': {'urls': [{'url': 'https://t.co/SnOv0usOtw', 'expanded_url': 'http://news.sky.com/', 'display_url': 'news.sky.com', 'indices': [0, 23]}]}, 'description': {'urls': []}}, 'protected': False, 'followers_count': 6590344, 'friends_count': 27, 'listed_count': 26242, 'created_at': 'Thu Jul 19 14:42:53 +0000 2007', 'favourites_count': 3, 'utc_offset': None, 'time_zone': None, 'geo_enabled': False, 'verified': True, 'statuses_count': 429801, 'lang': None, 'contributors_enabled': False, 'is_translator': False, 'is_translation_enabled': True, 'profile_background_color': '000000', 'profile_background_image_url': 'http://abs.twimg.com/images/themes/theme1/bg.png', 'profile_background_image_url_https': 'https://abs.twimg.com/images/themes/theme1/bg.png', 'profile_background_tile': False, 'profile_image_url': 'http://pbs.twimg.com/profile_images/953341660813021185/o2IGXWqj_normal.jpg', 'profile_image_url_https': 'https://pbs.twimg.com/profile_images/953341660813021185/o2IGXWqj_normal.jpg', 'profile_banner_url': 'https://pbs.twimg.com/profile_banners/7587032/1516873161', 'profile_link_color': '385FAC', 'profile_sidebar_border_color': '000000', 'profile_sidebar_fill_color': 'EDEDED', 'profile_text_color': '333333', 'profile_use_background_image': True, 'has_extended_profile': False, 'default_profile': False, 'default_profile_image': False, 'following': False, 'follow_request_sent': False, 'notifications': False, 'translator_type': 'none'}, 'geo': None, 'coordinates': None, 'place': None, 'contributors': None, 'is_quote_status': False, 'retweet_count': 0, 'favorite_count': 0, 'favorited': False, 'retweeted': False, 'possibly_sensitive': False, 'lang': 'en'}, created_at=datetime.datetime(2020, 11, 22, 14, 2, 45), id=1330512043154214912, id_str='1330512043154214912', full_text='COVID-19: Donald Trump plays golf while world leaders discuss pandemic at G20 summit https://t.co/M4pB9MgYeL', truncated=False, display_text_range=[0, 108], entities={'hashtags': [], 'symbols': [], 'user_mentions': [], 'urls': [{'url': 'https://t.co/M4pB9MgYeL', 'expanded_url': 'http://news.sky.com/story/covid-19-donald-trump-plays-golf-while-world-leaders-discuss-pandemic-at-g20-summit-12139126', 'display_url': 'news.sky.com/story/covid-19…', 'indices': [85, 108]}]}, metadata={'iso_language_code': 'en', 'result_type': 'recent'}, source='SkyNews Alerts - Latest', source_url='http://news.sky.com', in_reply_to_status_id=None, in_reply_to_status_id_str=None, in_reply_to_user_id=None, in_reply_to_user_id_str=None, in_reply_to_screen_name=None, author=User(_api=<tweepy.api.API object at 0x000001EB5EECED48>, _json={'id': 7587032, 'id_str': '7587032', 'name': 'SkyNews', 'screen_name': 'SkyNews', 'location': 'London, UK', 'description': 'We take you to the heart of the stories that shape our world. \\n\\nFor breaking news, follow @SkyNewsBreak', 'url': 'https://t.co/SnOv0usOtw', 'entities': {'url': {'urls': [{'url': 'https://t.co/SnOv0usOtw', 'expanded_url': 'http://news.sky.com/', 'display_url': 'news.sky.com', 'indices': [0, 23]}]}, 'description': {'urls': []}}, 'protected': False, 'followers_count': 6590344, 'friends_count': 27, 'listed_count': 26242, 'created_at': 'Thu Jul 19 14:42:53 +0000 2007', 'favourites_count': 3, 'utc_offset': None, 'time_zone': None, 'geo_enabled': False, 'verified': True, 'statuses_count': 429801, 'lang': None, 'contributors_enabled': False, 'is_translator': False, 'is_translation_enabled': True, 'profile_background_color': '000000', 'profile_background_image_url': 'http://abs.twimg.com/images/themes/theme1/bg.png', 'profile_background_image_url_https': 'https://abs.twimg.com/images/themes/theme1/bg.png', 'profile_background_tile': False, 'profile_image_url': 'http://pbs.twimg.com/profile_images/953341660813021185/o2IGXWqj_normal.jpg', 'profile_image_url_https': 'https://pbs.twimg.com/profile_images/953341660813021185/o2IGXWqj_normal.jpg', 'profile_banner_url': 'https://pbs.twimg.com/profile_banners/7587032/1516873161', 'profile_link_color': '385FAC', 'profile_sidebar_border_color': '000000', 'profile_sidebar_fill_color': 'EDEDED', 'profile_text_color': '333333', 'profile_use_background_image': True, 'has_extended_profile': False, 'default_profile': False, 'default_profile_image': False, 'following': False, 'follow_request_sent': False, 'notifications': False, 'translator_type': 'none'}, id=7587032, id_str='7587032', name='SkyNews', screen_name='SkyNews', location='London, UK', description='We take you to the heart of the stories that shape our world. \\n\\nFor breaking news, follow @SkyNewsBreak', url='https://t.co/SnOv0usOtw', entities={'url': {'urls': [{'url': 'https://t.co/SnOv0usOtw', 'expanded_url': 'http://news.sky.com/', 'display_url': 'news.sky.com', 'indices': [0, 23]}]}, 'description': {'urls': []}}, protected=False, followers_count=6590344, friends_count=27, listed_count=26242, created_at=datetime.datetime(2007, 7, 19, 14, 42, 53), favourites_count=3, utc_offset=None, time_zone=None, geo_enabled=False, verified=True, statuses_count=429801, lang=None, contributors_enabled=False, is_translator=False, is_translation_enabled=True, profile_background_color='000000', profile_background_image_url='http://abs.twimg.com/images/themes/theme1/bg.png', profile_background_image_url_https='https://abs.twimg.com/images/themes/theme1/bg.png', profile_background_tile=False, profile_image_url='http://pbs.twimg.com/profile_images/953341660813021185/o2IGXWqj_normal.jpg', profile_image_url_https='https://pbs.twimg.com/profile_images/953341660813021185/o2IGXWqj_normal.jpg', profile_banner_url='https://pbs.twimg.com/profile_banners/7587032/1516873161', profile_link_color='385FAC', profile_sidebar_border_color='000000', profile_sidebar_fill_color='EDEDED', profile_text_color='333333', profile_use_background_image=True, has_extended_profile=False, default_profile=False, default_profile_image=False, following=False, follow_request_sent=False, notifications=False, translator_type='none'), user=User(_api=<tweepy.api.API object at 0x000001EB5EECED48>, _json={'id': 7587032, 'id_str': '7587032', 'name': 'SkyNews', 'screen_name': 'SkyNews', 'location': 'London, UK', 'description': 'We take you to the heart of the stories that shape our world. \\n\\nFor breaking news, follow @SkyNewsBreak', 'url': 'https://t.co/SnOv0usOtw', 'entities': {'url': {'urls': [{'url': 'https://t.co/SnOv0usOtw', 'expanded_url': 'http://news.sky.com/', 'display_url': 'news.sky.com', 'indices': [0, 23]}]}, 'description': {'urls': []}}, 'protected': False, 'followers_count': 6590344, 'friends_count': 27, 'listed_count': 26242, 'created_at': 'Thu Jul 19 14:42:53 +0000 2007', 'favourites_count': 3, 'utc_offset': None, 'time_zone': None, 'geo_enabled': False, 'verified': True, 'statuses_count': 429801, 'lang': None, 'contributors_enabled': False, 'is_translator': False, 'is_translation_enabled': True, 'profile_background_color': '000000', 'profile_background_image_url': 'http://abs.twimg.com/images/themes/theme1/bg.png', 'profile_background_image_url_https': 'https://abs.twimg.com/images/themes/theme1/bg.png', 'profile_background_tile': False, 'profile_image_url': 'http://pbs.twimg.com/profile_images/953341660813021185/o2IGXWqj_normal.jpg', 'profile_image_url_https': 'https://pbs.twimg.com/profile_images/953341660813021185/o2IGXWqj_normal.jpg', 'profile_banner_url': 'https://pbs.twimg.com/profile_banners/7587032/1516873161', 'profile_link_color': '385FAC', 'profile_sidebar_border_color': '000000', 'profile_sidebar_fill_color': 'EDEDED', 'profile_text_color': '333333', 'profile_use_background_image': True, 'has_extended_profile': False, 'default_profile': False, 'default_profile_image': False, 'following': False, 'follow_request_sent': False, 'notifications': False, 'translator_type': 'none'}, id=7587032, id_str='7587032', name='SkyNews', screen_name='SkyNews', location='London, UK', description='We take you to the heart of the stories that shape our world. \\n\\nFor breaking news, follow @SkyNewsBreak', url='https://t.co/SnOv0usOtw', entities={'url': {'urls': [{'url': 'https://t.co/SnOv0usOtw', 'expanded_url': 'http://news.sky.com/', 'display_url': 'news.sky.com', 'indices': [0, 23]}]}, 'description': {'urls': []}}, protected=False, followers_count=6590344, friends_count=27, listed_count=26242, created_at=datetime.datetime(2007, 7, 19, 14, 42, 53), favourites_count=3, utc_offset=None, time_zone=None, geo_enabled=False, verified=True, statuses_count=429801, lang=None, contributors_enabled=False, is_translator=False, is_translation_enabled=True, profile_background_color='000000', profile_background_image_url='http://abs.twimg.com/images/themes/theme1/bg.png', profile_background_image_url_https='https://abs.twimg.com/images/themes/theme1/bg.png', profile_background_tile=False, profile_image_url='http://pbs.twimg.com/profile_images/953341660813021185/o2IGXWqj_normal.jpg', profile_image_url_https='https://pbs.twimg.com/profile_images/953341660813021185/o2IGXWqj_normal.jpg', profile_banner_url='https://pbs.twimg.com/profile_banners/7587032/1516873161', profile_link_color='385FAC', profile_sidebar_border_color='000000', profile_sidebar_fill_color='EDEDED', profile_text_color='333333', profile_use_background_image=True, has_extended_profile=False, default_profile=False, default_profile_image=False, following=False, follow_request_sent=False, notifications=False, translator_type='none'), geo=None, coordinates=None, place=None, contributors=None, is_quote_status=False, retweet_count=0, favorite_count=0, favorited=False, retweeted=False, possibly_sensitive=False, lang='en') \n",
      "\n",
      "******************************\n",
      "Status(_api=<tweepy.api.API object at 0x000001EB5EECED48>, _json={'created_at': 'Sun Nov 22 14:02:45 +0000 2020', 'id': 1330512042558693379, 'id_str': '1330512042558693379', 'full_text': '.@AttyAbdul from IndyPolitics joined @hammerandnigel Friday to discuss the latest oppressive COVID-19 restrictions for Hoosier families. #COVID #restrictions https://t.co/bJHQLg4Woy', 'truncated': False, 'display_text_range': [0, 157], 'entities': {'hashtags': [{'text': 'COVID', 'indices': [137, 143]}, {'text': 'restrictions', 'indices': [144, 157]}], 'symbols': [], 'user_mentions': [{'screen_name': 'AttyAbdul', 'name': 'Abdul-Hakim Shabazz', 'id': 19392245, 'id_str': '19392245', 'indices': [1, 11]}, {'screen_name': 'hammerandnigel', 'name': 'Hammer and Nigel', 'id': 236498138, 'id_str': '236498138', 'indices': [37, 52]}], 'urls': [{'url': 'https://t.co/bJHQLg4Woy', 'expanded_url': 'https://twitter.com/93wibc/status/1330275799673565188', 'display_url': 'twitter.com/93wibc/status/…', 'indices': [158, 181]}]}, 'metadata': {'iso_language_code': 'en', 'result_type': 'recent'}, 'source': '<a href=\"http://twitter.com/download/iphone\" rel=\"nofollow\">Twitter for iPhone</a>', 'in_reply_to_status_id': None, 'in_reply_to_status_id_str': None, 'in_reply_to_user_id': None, 'in_reply_to_user_id_str': None, 'in_reply_to_screen_name': None, 'user': {'id': 236498138, 'id_str': '236498138', 'name': 'Hammer and Nigel', 'screen_name': 'hammerandnigel', 'location': 'Indianapolis, IN', 'description': '2 radio nerds on 3-7pm - 93.1 WIBC. Views expressed here do not necessarily reflect the views of our employers.', 'url': 'https://t.co/qXX7OFwWtB', 'entities': {'url': {'urls': [{'url': 'https://t.co/qXX7OFwWtB', 'expanded_url': 'http://www.WIBC.com', 'display_url': 'WIBC.com', 'indices': [0, 23]}]}, 'description': {'urls': []}}, 'protected': False, 'followers_count': 13902, 'friends_count': 2711, 'listed_count': 51, 'created_at': 'Mon Jan 10 18:40:06 +0000 2011', 'favourites_count': 14409, 'utc_offset': None, 'time_zone': None, 'geo_enabled': True, 'verified': True, 'statuses_count': 35333, 'lang': None, 'contributors_enabled': False, 'is_translator': False, 'is_translation_enabled': False, 'profile_background_color': 'C0DEED', 'profile_background_image_url': 'http://abs.twimg.com/images/themes/theme1/bg.png', 'profile_background_image_url_https': 'https://abs.twimg.com/images/themes/theme1/bg.png', 'profile_background_tile': True, 'profile_image_url': 'http://pbs.twimg.com/profile_images/865416241388834816/IAk4T-Ox_normal.jpg', 'profile_image_url_https': 'https://pbs.twimg.com/profile_images/865416241388834816/IAk4T-Ox_normal.jpg', 'profile_banner_url': 'https://pbs.twimg.com/profile_banners/236498138/1564200031', 'profile_link_color': '0084B4', 'profile_sidebar_border_color': 'FFFFFF', 'profile_sidebar_fill_color': 'DDEEF6', 'profile_text_color': '333333', 'profile_use_background_image': True, 'has_extended_profile': False, 'default_profile': False, 'default_profile_image': False, 'following': False, 'follow_request_sent': False, 'notifications': False, 'translator_type': 'none'}, 'geo': None, 'coordinates': None, 'place': None, 'contributors': None, 'is_quote_status': True, 'quoted_status_id': 1330275799673565188, 'quoted_status_id_str': '1330275799673565188', 'quoted_status': {'created_at': 'Sat Nov 21 22:24:00 +0000 2020', 'id': 1330275799673565188, 'id_str': '1330275799673565188', 'full_text': 'New restrictions incoming... @hammerandnigel \\nhttps://t.co/d61kPZDxa5', 'truncated': False, 'display_text_range': [0, 69], 'entities': {'hashtags': [], 'symbols': [], 'user_mentions': [{'screen_name': 'hammerandnigel', 'name': 'Hammer and Nigel', 'id': 236498138, 'id_str': '236498138', 'indices': [29, 44]}], 'urls': [{'url': 'https://t.co/d61kPZDxa5', 'expanded_url': 'https://bit.ly/3pVoITB', 'display_url': 'bit.ly/3pVoITB', 'indices': [46, 69]}]}, 'metadata': {'iso_language_code': 'en', 'result_type': 'recent'}, 'source': '<a href=\"https://sproutsocial.com\" rel=\"nofollow\">Sprout Social</a>', 'in_reply_to_status_id': None, 'in_reply_to_status_id_str': None, 'in_reply_to_user_id': None, 'in_reply_to_user_id_str': None, 'in_reply_to_screen_name': None, 'user': {'id': 12673222, 'id_str': '12673222', 'name': '93 WIBC Indianapolis', 'screen_name': '93wibc', 'location': 'Indianapolis, IN', 'description': 'On the level. On the go.\\n🎙@tonykatz 6-9am & 11am-1pm\\n🎙@chicksonright 9am-11am\\n🎙@hammerandnigel 3pm-7pm\\n\\nINSTAGRAM\\n📷 @93wibc', 'url': 'https://t.co/50LJ2TxjLL', 'entities': {'url': {'urls': [{'url': 'https://t.co/50LJ2TxjLL', 'expanded_url': 'https://linktr.ee/931wibc', 'display_url': 'linktr.ee/931wibc', 'indices': [0, 23]}]}, 'description': {'urls': []}}, 'protected': False, 'followers_count': 31785, 'friends_count': 1785, 'listed_count': 698, 'created_at': 'Fri Jan 25 06:37:31 +0000 2008', 'favourites_count': 6286, 'utc_offset': None, 'time_zone': None, 'geo_enabled': True, 'verified': True, 'statuses_count': 4043, 'lang': None, 'contributors_enabled': False, 'is_translator': False, 'is_translation_enabled': False, 'profile_background_color': '043464', 'profile_background_image_url': 'http://abs.twimg.com/images/themes/theme1/bg.png', 'profile_background_image_url_https': 'https://abs.twimg.com/images/themes/theme1/bg.png', 'profile_background_tile': True, 'profile_image_url': 'http://pbs.twimg.com/profile_images/960908479165804545/YyAF5Psq_normal.jpg', 'profile_image_url_https': 'https://pbs.twimg.com/profile_images/960908479165804545/YyAF5Psq_normal.jpg', 'profile_banner_url': 'https://pbs.twimg.com/profile_banners/12673222/1500500662', 'profile_link_color': '2879AC', 'profile_sidebar_border_color': 'FFFFFF', 'profile_sidebar_fill_color': 'FFE700', 'profile_text_color': '000000', 'profile_use_background_image': False, 'has_extended_profile': False, 'default_profile': False, 'default_profile_image': False, 'following': False, 'follow_request_sent': False, 'notifications': False, 'translator_type': 'none'}, 'geo': None, 'coordinates': None, 'place': None, 'contributors': None, 'is_quote_status': False, 'retweet_count': 2, 'favorite_count': 3, 'favorited': False, 'retweeted': False, 'possibly_sensitive': False, 'lang': 'en'}, 'retweet_count': 0, 'favorite_count': 0, 'favorited': False, 'retweeted': False, 'possibly_sensitive': False, 'lang': 'en'}, created_at=datetime.datetime(2020, 11, 22, 14, 2, 45), id=1330512042558693379, id_str='1330512042558693379', full_text='.@AttyAbdul from IndyPolitics joined @hammerandnigel Friday to discuss the latest oppressive COVID-19 restrictions for Hoosier families. #COVID #restrictions https://t.co/bJHQLg4Woy', truncated=False, display_text_range=[0, 157], entities={'hashtags': [{'text': 'COVID', 'indices': [137, 143]}, {'text': 'restrictions', 'indices': [144, 157]}], 'symbols': [], 'user_mentions': [{'screen_name': 'AttyAbdul', 'name': 'Abdul-Hakim Shabazz', 'id': 19392245, 'id_str': '19392245', 'indices': [1, 11]}, {'screen_name': 'hammerandnigel', 'name': 'Hammer and Nigel', 'id': 236498138, 'id_str': '236498138', 'indices': [37, 52]}], 'urls': [{'url': 'https://t.co/bJHQLg4Woy', 'expanded_url': 'https://twitter.com/93wibc/status/1330275799673565188', 'display_url': 'twitter.com/93wibc/status/…', 'indices': [158, 181]}]}, metadata={'iso_language_code': 'en', 'result_type': 'recent'}, source='Twitter for iPhone', source_url='http://twitter.com/download/iphone', in_reply_to_status_id=None, in_reply_to_status_id_str=None, in_reply_to_user_id=None, in_reply_to_user_id_str=None, in_reply_to_screen_name=None, author=User(_api=<tweepy.api.API object at 0x000001EB5EECED48>, _json={'id': 236498138, 'id_str': '236498138', 'name': 'Hammer and Nigel', 'screen_name': 'hammerandnigel', 'location': 'Indianapolis, IN', 'description': '2 radio nerds on 3-7pm - 93.1 WIBC. Views expressed here do not necessarily reflect the views of our employers.', 'url': 'https://t.co/qXX7OFwWtB', 'entities': {'url': {'urls': [{'url': 'https://t.co/qXX7OFwWtB', 'expanded_url': 'http://www.WIBC.com', 'display_url': 'WIBC.com', 'indices': [0, 23]}]}, 'description': {'urls': []}}, 'protected': False, 'followers_count': 13902, 'friends_count': 2711, 'listed_count': 51, 'created_at': 'Mon Jan 10 18:40:06 +0000 2011', 'favourites_count': 14409, 'utc_offset': None, 'time_zone': None, 'geo_enabled': True, 'verified': True, 'statuses_count': 35333, 'lang': None, 'contributors_enabled': False, 'is_translator': False, 'is_translation_enabled': False, 'profile_background_color': 'C0DEED', 'profile_background_image_url': 'http://abs.twimg.com/images/themes/theme1/bg.png', 'profile_background_image_url_https': 'https://abs.twimg.com/images/themes/theme1/bg.png', 'profile_background_tile': True, 'profile_image_url': 'http://pbs.twimg.com/profile_images/865416241388834816/IAk4T-Ox_normal.jpg', 'profile_image_url_https': 'https://pbs.twimg.com/profile_images/865416241388834816/IAk4T-Ox_normal.jpg', 'profile_banner_url': 'https://pbs.twimg.com/profile_banners/236498138/1564200031', 'profile_link_color': '0084B4', 'profile_sidebar_border_color': 'FFFFFF', 'profile_sidebar_fill_color': 'DDEEF6', 'profile_text_color': '333333', 'profile_use_background_image': True, 'has_extended_profile': False, 'default_profile': False, 'default_profile_image': False, 'following': False, 'follow_request_sent': False, 'notifications': False, 'translator_type': 'none'}, id=236498138, id_str='236498138', name='Hammer and Nigel', screen_name='hammerandnigel', location='Indianapolis, IN', description='2 radio nerds on 3-7pm - 93.1 WIBC. Views expressed here do not necessarily reflect the views of our employers.', url='https://t.co/qXX7OFwWtB', entities={'url': {'urls': [{'url': 'https://t.co/qXX7OFwWtB', 'expanded_url': 'http://www.WIBC.com', 'display_url': 'WIBC.com', 'indices': [0, 23]}]}, 'description': {'urls': []}}, protected=False, followers_count=13902, friends_count=2711, listed_count=51, created_at=datetime.datetime(2011, 1, 10, 18, 40, 6), favourites_count=14409, utc_offset=None, time_zone=None, geo_enabled=True, verified=True, statuses_count=35333, lang=None, contributors_enabled=False, is_translator=False, is_translation_enabled=False, profile_background_color='C0DEED', profile_background_image_url='http://abs.twimg.com/images/themes/theme1/bg.png', profile_background_image_url_https='https://abs.twimg.com/images/themes/theme1/bg.png', profile_background_tile=True, profile_image_url='http://pbs.twimg.com/profile_images/865416241388834816/IAk4T-Ox_normal.jpg', profile_image_url_https='https://pbs.twimg.com/profile_images/865416241388834816/IAk4T-Ox_normal.jpg', profile_banner_url='https://pbs.twimg.com/profile_banners/236498138/1564200031', profile_link_color='0084B4', profile_sidebar_border_color='FFFFFF', profile_sidebar_fill_color='DDEEF6', profile_text_color='333333', profile_use_background_image=True, has_extended_profile=False, default_profile=False, default_profile_image=False, following=False, follow_request_sent=False, notifications=False, translator_type='none'), user=User(_api=<tweepy.api.API object at 0x000001EB5EECED48>, _json={'id': 236498138, 'id_str': '236498138', 'name': 'Hammer and Nigel', 'screen_name': 'hammerandnigel', 'location': 'Indianapolis, IN', 'description': '2 radio nerds on 3-7pm - 93.1 WIBC. Views expressed here do not necessarily reflect the views of our employers.', 'url': 'https://t.co/qXX7OFwWtB', 'entities': {'url': {'urls': [{'url': 'https://t.co/qXX7OFwWtB', 'expanded_url': 'http://www.WIBC.com', 'display_url': 'WIBC.com', 'indices': [0, 23]}]}, 'description': {'urls': []}}, 'protected': False, 'followers_count': 13902, 'friends_count': 2711, 'listed_count': 51, 'created_at': 'Mon Jan 10 18:40:06 +0000 2011', 'favourites_count': 14409, 'utc_offset': None, 'time_zone': None, 'geo_enabled': True, 'verified': True, 'statuses_count': 35333, 'lang': None, 'contributors_enabled': False, 'is_translator': False, 'is_translation_enabled': False, 'profile_background_color': 'C0DEED', 'profile_background_image_url': 'http://abs.twimg.com/images/themes/theme1/bg.png', 'profile_background_image_url_https': 'https://abs.twimg.com/images/themes/theme1/bg.png', 'profile_background_tile': True, 'profile_image_url': 'http://pbs.twimg.com/profile_images/865416241388834816/IAk4T-Ox_normal.jpg', 'profile_image_url_https': 'https://pbs.twimg.com/profile_images/865416241388834816/IAk4T-Ox_normal.jpg', 'profile_banner_url': 'https://pbs.twimg.com/profile_banners/236498138/1564200031', 'profile_link_color': '0084B4', 'profile_sidebar_border_color': 'FFFFFF', 'profile_sidebar_fill_color': 'DDEEF6', 'profile_text_color': '333333', 'profile_use_background_image': True, 'has_extended_profile': False, 'default_profile': False, 'default_profile_image': False, 'following': False, 'follow_request_sent': False, 'notifications': False, 'translator_type': 'none'}, id=236498138, id_str='236498138', name='Hammer and Nigel', screen_name='hammerandnigel', location='Indianapolis, IN', description='2 radio nerds on 3-7pm - 93.1 WIBC. Views expressed here do not necessarily reflect the views of our employers.', url='https://t.co/qXX7OFwWtB', entities={'url': {'urls': [{'url': 'https://t.co/qXX7OFwWtB', 'expanded_url': 'http://www.WIBC.com', 'display_url': 'WIBC.com', 'indices': [0, 23]}]}, 'description': {'urls': []}}, protected=False, followers_count=13902, friends_count=2711, listed_count=51, created_at=datetime.datetime(2011, 1, 10, 18, 40, 6), favourites_count=14409, utc_offset=None, time_zone=None, geo_enabled=True, verified=True, statuses_count=35333, lang=None, contributors_enabled=False, is_translator=False, is_translation_enabled=False, profile_background_color='C0DEED', profile_background_image_url='http://abs.twimg.com/images/themes/theme1/bg.png', profile_background_image_url_https='https://abs.twimg.com/images/themes/theme1/bg.png', profile_background_tile=True, profile_image_url='http://pbs.twimg.com/profile_images/865416241388834816/IAk4T-Ox_normal.jpg', profile_image_url_https='https://pbs.twimg.com/profile_images/865416241388834816/IAk4T-Ox_normal.jpg', profile_banner_url='https://pbs.twimg.com/profile_banners/236498138/1564200031', profile_link_color='0084B4', profile_sidebar_border_color='FFFFFF', profile_sidebar_fill_color='DDEEF6', profile_text_color='333333', profile_use_background_image=True, has_extended_profile=False, default_profile=False, default_profile_image=False, following=False, follow_request_sent=False, notifications=False, translator_type='none'), geo=None, coordinates=None, place=None, contributors=None, is_quote_status=True, quoted_status_id=1330275799673565188, quoted_status_id_str='1330275799673565188', quoted_status=Status(_api=<tweepy.api.API object at 0x000001EB5EECED48>, _json={'created_at': 'Sat Nov 21 22:24:00 +0000 2020', 'id': 1330275799673565188, 'id_str': '1330275799673565188', 'full_text': 'New restrictions incoming... @hammerandnigel \\nhttps://t.co/d61kPZDxa5', 'truncated': False, 'display_text_range': [0, 69], 'entities': {'hashtags': [], 'symbols': [], 'user_mentions': [{'screen_name': 'hammerandnigel', 'name': 'Hammer and Nigel', 'id': 236498138, 'id_str': '236498138', 'indices': [29, 44]}], 'urls': [{'url': 'https://t.co/d61kPZDxa5', 'expanded_url': 'https://bit.ly/3pVoITB', 'display_url': 'bit.ly/3pVoITB', 'indices': [46, 69]}]}, 'metadata': {'iso_language_code': 'en', 'result_type': 'recent'}, 'source': '<a href=\"https://sproutsocial.com\" rel=\"nofollow\">Sprout Social</a>', 'in_reply_to_status_id': None, 'in_reply_to_status_id_str': None, 'in_reply_to_user_id': None, 'in_reply_to_user_id_str': None, 'in_reply_to_screen_name': None, 'user': {'id': 12673222, 'id_str': '12673222', 'name': '93 WIBC Indianapolis', 'screen_name': '93wibc', 'location': 'Indianapolis, IN', 'description': 'On the level. On the go.\\n🎙@tonykatz 6-9am & 11am-1pm\\n🎙@chicksonright 9am-11am\\n🎙@hammerandnigel 3pm-7pm\\n\\nINSTAGRAM\\n📷 @93wibc', 'url': 'https://t.co/50LJ2TxjLL', 'entities': {'url': {'urls': [{'url': 'https://t.co/50LJ2TxjLL', 'expanded_url': 'https://linktr.ee/931wibc', 'display_url': 'linktr.ee/931wibc', 'indices': [0, 23]}]}, 'description': {'urls': []}}, 'protected': False, 'followers_count': 31785, 'friends_count': 1785, 'listed_count': 698, 'created_at': 'Fri Jan 25 06:37:31 +0000 2008', 'favourites_count': 6286, 'utc_offset': None, 'time_zone': None, 'geo_enabled': True, 'verified': True, 'statuses_count': 4043, 'lang': None, 'contributors_enabled': False, 'is_translator': False, 'is_translation_enabled': False, 'profile_background_color': '043464', 'profile_background_image_url': 'http://abs.twimg.com/images/themes/theme1/bg.png', 'profile_background_image_url_https': 'https://abs.twimg.com/images/themes/theme1/bg.png', 'profile_background_tile': True, 'profile_image_url': 'http://pbs.twimg.com/profile_images/960908479165804545/YyAF5Psq_normal.jpg', 'profile_image_url_https': 'https://pbs.twimg.com/profile_images/960908479165804545/YyAF5Psq_normal.jpg', 'profile_banner_url': 'https://pbs.twimg.com/profile_banners/12673222/1500500662', 'profile_link_color': '2879AC', 'profile_sidebar_border_color': 'FFFFFF', 'profile_sidebar_fill_color': 'FFE700', 'profile_text_color': '000000', 'profile_use_background_image': False, 'has_extended_profile': False, 'default_profile': False, 'default_profile_image': False, 'following': False, 'follow_request_sent': False, 'notifications': False, 'translator_type': 'none'}, 'geo': None, 'coordinates': None, 'place': None, 'contributors': None, 'is_quote_status': False, 'retweet_count': 2, 'favorite_count': 3, 'favorited': False, 'retweeted': False, 'possibly_sensitive': False, 'lang': 'en'}, created_at=datetime.datetime(2020, 11, 21, 22, 24), id=1330275799673565188, id_str='1330275799673565188', full_text='New restrictions incoming... @hammerandnigel \\nhttps://t.co/d61kPZDxa5', truncated=False, display_text_range=[0, 69], entities={'hashtags': [], 'symbols': [], 'user_mentions': [{'screen_name': 'hammerandnigel', 'name': 'Hammer and Nigel', 'id': 236498138, 'id_str': '236498138', 'indices': [29, 44]}], 'urls': [{'url': 'https://t.co/d61kPZDxa5', 'expanded_url': 'https://bit.ly/3pVoITB', 'display_url': 'bit.ly/3pVoITB', 'indices': [46, 69]}]}, metadata={'iso_language_code': 'en', 'result_type': 'recent'}, source='Sprout Social', source_url='https://sproutsocial.com', in_reply_to_status_id=None, in_reply_to_status_id_str=None, in_reply_to_user_id=None, in_reply_to_user_id_str=None, in_reply_to_screen_name=None, author=User(_api=<tweepy.api.API object at 0x000001EB5EECED48>, _json={'id': 12673222, 'id_str': '12673222', 'name': '93 WIBC Indianapolis', 'screen_name': '93wibc', 'location': 'Indianapolis, IN', 'description': 'On the level. On the go.\\n🎙@tonykatz 6-9am & 11am-1pm\\n🎙@chicksonright 9am-11am\\n🎙@hammerandnigel 3pm-7pm\\n\\nINSTAGRAM\\n📷 @93wibc', 'url': 'https://t.co/50LJ2TxjLL', 'entities': {'url': {'urls': [{'url': 'https://t.co/50LJ2TxjLL', 'expanded_url': 'https://linktr.ee/931wibc', 'display_url': 'linktr.ee/931wibc', 'indices': [0, 23]}]}, 'description': {'urls': []}}, 'protected': False, 'followers_count': 31785, 'friends_count': 1785, 'listed_count': 698, 'created_at': 'Fri Jan 25 06:37:31 +0000 2008', 'favourites_count': 6286, 'utc_offset': None, 'time_zone': None, 'geo_enabled': True, 'verified': True, 'statuses_count': 4043, 'lang': None, 'contributors_enabled': False, 'is_translator': False, 'is_translation_enabled': False, 'profile_background_color': '043464', 'profile_background_image_url': 'http://abs.twimg.com/images/themes/theme1/bg.png', 'profile_background_image_url_https': 'https://abs.twimg.com/images/themes/theme1/bg.png', 'profile_background_tile': True, 'profile_image_url': 'http://pbs.twimg.com/profile_images/960908479165804545/YyAF5Psq_normal.jpg', 'profile_image_url_https': 'https://pbs.twimg.com/profile_images/960908479165804545/YyAF5Psq_normal.jpg', 'profile_banner_url': 'https://pbs.twimg.com/profile_banners/12673222/1500500662', 'profile_link_color': '2879AC', 'profile_sidebar_border_color': 'FFFFFF', 'profile_sidebar_fill_color': 'FFE700', 'profile_text_color': '000000', 'profile_use_background_image': False, 'has_extended_profile': False, 'default_profile': False, 'default_profile_image': False, 'following': False, 'follow_request_sent': False, 'notifications': False, 'translator_type': 'none'}, id=12673222, id_str='12673222', name='93 WIBC Indianapolis', screen_name='93wibc', location='Indianapolis, IN', description='On the level. On the go.\\n🎙@tonykatz 6-9am & 11am-1pm\\n🎙@chicksonright 9am-11am\\n🎙@hammerandnigel 3pm-7pm\\n\\nINSTAGRAM\\n📷 @93wibc', url='https://t.co/50LJ2TxjLL', entities={'url': {'urls': [{'url': 'https://t.co/50LJ2TxjLL', 'expanded_url': 'https://linktr.ee/931wibc', 'display_url': 'linktr.ee/931wibc', 'indices': [0, 23]}]}, 'description': {'urls': []}}, protected=False, followers_count=31785, friends_count=1785, listed_count=698, created_at=datetime.datetime(2008, 1, 25, 6, 37, 31), favourites_count=6286, utc_offset=None, time_zone=None, geo_enabled=True, verified=True, statuses_count=4043, lang=None, contributors_enabled=False, is_translator=False, is_translation_enabled=False, profile_background_color='043464', profile_background_image_url='http://abs.twimg.com/images/themes/theme1/bg.png', profile_background_image_url_https='https://abs.twimg.com/images/themes/theme1/bg.png', profile_background_tile=True, profile_image_url='http://pbs.twimg.com/profile_images/960908479165804545/YyAF5Psq_normal.jpg', profile_image_url_https='https://pbs.twimg.com/profile_images/960908479165804545/YyAF5Psq_normal.jpg', profile_banner_url='https://pbs.twimg.com/profile_banners/12673222/1500500662', profile_link_color='2879AC', profile_sidebar_border_color='FFFFFF', profile_sidebar_fill_color='FFE700', profile_text_color='000000', profile_use_background_image=False, has_extended_profile=False, default_profile=False, default_profile_image=False, following=False, follow_request_sent=False, notifications=False, translator_type='none'), user=User(_api=<tweepy.api.API object at 0x000001EB5EECED48>, _json={'id': 12673222, 'id_str': '12673222', 'name': '93 WIBC Indianapolis', 'screen_name': '93wibc', 'location': 'Indianapolis, IN', 'description': 'On the level. On the go.\\n🎙@tonykatz 6-9am & 11am-1pm\\n🎙@chicksonright 9am-11am\\n🎙@hammerandnigel 3pm-7pm\\n\\nINSTAGRAM\\n📷 @93wibc', 'url': 'https://t.co/50LJ2TxjLL', 'entities': {'url': {'urls': [{'url': 'https://t.co/50LJ2TxjLL', 'expanded_url': 'https://linktr.ee/931wibc', 'display_url': 'linktr.ee/931wibc', 'indices': [0, 23]}]}, 'description': {'urls': []}}, 'protected': False, 'followers_count': 31785, 'friends_count': 1785, 'listed_count': 698, 'created_at': 'Fri Jan 25 06:37:31 +0000 2008', 'favourites_count': 6286, 'utc_offset': None, 'time_zone': None, 'geo_enabled': True, 'verified': True, 'statuses_count': 4043, 'lang': None, 'contributors_enabled': False, 'is_translator': False, 'is_translation_enabled': False, 'profile_background_color': '043464', 'profile_background_image_url': 'http://abs.twimg.com/images/themes/theme1/bg.png', 'profile_background_image_url_https': 'https://abs.twimg.com/images/themes/theme1/bg.png', 'profile_background_tile': True, 'profile_image_url': 'http://pbs.twimg.com/profile_images/960908479165804545/YyAF5Psq_normal.jpg', 'profile_image_url_https': 'https://pbs.twimg.com/profile_images/960908479165804545/YyAF5Psq_normal.jpg', 'profile_banner_url': 'https://pbs.twimg.com/profile_banners/12673222/1500500662', 'profile_link_color': '2879AC', 'profile_sidebar_border_color': 'FFFFFF', 'profile_sidebar_fill_color': 'FFE700', 'profile_text_color': '000000', 'profile_use_background_image': False, 'has_extended_profile': False, 'default_profile': False, 'default_profile_image': False, 'following': False, 'follow_request_sent': False, 'notifications': False, 'translator_type': 'none'}, id=12673222, id_str='12673222', name='93 WIBC Indianapolis', screen_name='93wibc', location='Indianapolis, IN', description='On the level. On the go.\\n🎙@tonykatz 6-9am & 11am-1pm\\n🎙@chicksonright 9am-11am\\n🎙@hammerandnigel 3pm-7pm\\n\\nINSTAGRAM\\n📷 @93wibc', url='https://t.co/50LJ2TxjLL', entities={'url': {'urls': [{'url': 'https://t.co/50LJ2TxjLL', 'expanded_url': 'https://linktr.ee/931wibc', 'display_url': 'linktr.ee/931wibc', 'indices': [0, 23]}]}, 'description': {'urls': []}}, protected=False, followers_count=31785, friends_count=1785, listed_count=698, created_at=datetime.datetime(2008, 1, 25, 6, 37, 31), favourites_count=6286, utc_offset=None, time_zone=None, geo_enabled=True, verified=True, statuses_count=4043, lang=None, contributors_enabled=False, is_translator=False, is_translation_enabled=False, profile_background_color='043464', profile_background_image_url='http://abs.twimg.com/images/themes/theme1/bg.png', profile_background_image_url_https='https://abs.twimg.com/images/themes/theme1/bg.png', profile_background_tile=True, profile_image_url='http://pbs.twimg.com/profile_images/960908479165804545/YyAF5Psq_normal.jpg', profile_image_url_https='https://pbs.twimg.com/profile_images/960908479165804545/YyAF5Psq_normal.jpg', profile_banner_url='https://pbs.twimg.com/profile_banners/12673222/1500500662', profile_link_color='2879AC', profile_sidebar_border_color='FFFFFF', profile_sidebar_fill_color='FFE700', profile_text_color='000000', profile_use_background_image=False, has_extended_profile=False, default_profile=False, default_profile_image=False, following=False, follow_request_sent=False, notifications=False, translator_type='none'), geo=None, coordinates=None, place=None, contributors=None, is_quote_status=False, retweet_count=2, favorite_count=3, favorited=False, retweeted=False, possibly_sensitive=False, lang='en'), retweet_count=0, favorite_count=0, favorited=False, retweeted=False, possibly_sensitive=False, lang='en') \n",
      "\n",
      "******************************\n",
      "Status(_api=<tweepy.api.API object at 0x000001EB5EECED48>, _json={'created_at': 'Sun Nov 22 14:02:44 +0000 2020', 'id': 1330512040167936000, 'id_str': '1330512040167936000', 'full_text': '4,000 Church Members Donate Blood Plasma to Fight COVID-19 https://t.co/vb41RKM4Z5 @Established Africa 님이 씀', 'truncated': False, 'display_text_range': [0, 107], 'entities': {'hashtags': [], 'symbols': [], 'user_mentions': [{'screen_name': 'established', 'name': 'Established Coffee', 'id': 1434202681, 'id_str': '1434202681', 'indices': [83, 95]}], 'urls': [{'url': 'https://t.co/vb41RKM4Z5', 'expanded_url': 'https://established.co.za/thousands-join-worldwide-interfaith-prayer-event-hosted-by-international-church-to-end-pandemic/', 'display_url': 'established.co.za/thousands-join…', 'indices': [59, 82]}]}, 'metadata': {'iso_language_code': 'en', 'result_type': 'recent'}, 'source': '<a href=\"http://twitter.com/download/android\" rel=\"nofollow\">Twitter for Android</a>', 'in_reply_to_status_id': None, 'in_reply_to_status_id_str': None, 'in_reply_to_user_id': None, 'in_reply_to_user_id_str': None, 'in_reply_to_screen_name': None, 'user': {'id': 2401208905, 'id_str': '2401208905', 'name': '세상을 아름답게', 'screen_name': 'lovetree35', 'location': '', 'description': '항상 긍정적인 생각으로 살아가자', 'url': None, 'entities': {'description': {'urls': []}}, 'protected': False, 'followers_count': 8235, 'friends_count': 7618, 'listed_count': 15, 'created_at': 'Fri Mar 21 08:18:01 +0000 2014', 'favourites_count': 518, 'utc_offset': None, 'time_zone': None, 'geo_enabled': False, 'verified': False, 'statuses_count': 46957, 'lang': None, 'contributors_enabled': False, 'is_translator': False, 'is_translation_enabled': False, 'profile_background_color': 'C0DEED', 'profile_background_image_url': 'http://abs.twimg.com/images/themes/theme1/bg.png', 'profile_background_image_url_https': 'https://abs.twimg.com/images/themes/theme1/bg.png', 'profile_background_tile': False, 'profile_image_url': 'http://pbs.twimg.com/profile_images/559739036600774656/9STZLIzR_normal.jpeg', 'profile_image_url_https': 'https://pbs.twimg.com/profile_images/559739036600774656/9STZLIzR_normal.jpeg', 'profile_link_color': '1DA1F2', 'profile_sidebar_border_color': 'C0DEED', 'profile_sidebar_fill_color': 'DDEEF6', 'profile_text_color': '333333', 'profile_use_background_image': True, 'has_extended_profile': False, 'default_profile': True, 'default_profile_image': False, 'following': False, 'follow_request_sent': False, 'notifications': False, 'translator_type': 'none'}, 'geo': None, 'coordinates': None, 'place': None, 'contributors': None, 'is_quote_status': False, 'retweet_count': 0, 'favorite_count': 0, 'favorited': False, 'retweeted': False, 'possibly_sensitive': False, 'lang': 'en'}, created_at=datetime.datetime(2020, 11, 22, 14, 2, 44), id=1330512040167936000, id_str='1330512040167936000', full_text='4,000 Church Members Donate Blood Plasma to Fight COVID-19 https://t.co/vb41RKM4Z5 @Established Africa 님이 씀', truncated=False, display_text_range=[0, 107], entities={'hashtags': [], 'symbols': [], 'user_mentions': [{'screen_name': 'established', 'name': 'Established Coffee', 'id': 1434202681, 'id_str': '1434202681', 'indices': [83, 95]}], 'urls': [{'url': 'https://t.co/vb41RKM4Z5', 'expanded_url': 'https://established.co.za/thousands-join-worldwide-interfaith-prayer-event-hosted-by-international-church-to-end-pandemic/', 'display_url': 'established.co.za/thousands-join…', 'indices': [59, 82]}]}, metadata={'iso_language_code': 'en', 'result_type': 'recent'}, source='Twitter for Android', source_url='http://twitter.com/download/android', in_reply_to_status_id=None, in_reply_to_status_id_str=None, in_reply_to_user_id=None, in_reply_to_user_id_str=None, in_reply_to_screen_name=None, author=User(_api=<tweepy.api.API object at 0x000001EB5EECED48>, _json={'id': 2401208905, 'id_str': '2401208905', 'name': '세상을 아름답게', 'screen_name': 'lovetree35', 'location': '', 'description': '항상 긍정적인 생각으로 살아가자', 'url': None, 'entities': {'description': {'urls': []}}, 'protected': False, 'followers_count': 8235, 'friends_count': 7618, 'listed_count': 15, 'created_at': 'Fri Mar 21 08:18:01 +0000 2014', 'favourites_count': 518, 'utc_offset': None, 'time_zone': None, 'geo_enabled': False, 'verified': False, 'statuses_count': 46957, 'lang': None, 'contributors_enabled': False, 'is_translator': False, 'is_translation_enabled': False, 'profile_background_color': 'C0DEED', 'profile_background_image_url': 'http://abs.twimg.com/images/themes/theme1/bg.png', 'profile_background_image_url_https': 'https://abs.twimg.com/images/themes/theme1/bg.png', 'profile_background_tile': False, 'profile_image_url': 'http://pbs.twimg.com/profile_images/559739036600774656/9STZLIzR_normal.jpeg', 'profile_image_url_https': 'https://pbs.twimg.com/profile_images/559739036600774656/9STZLIzR_normal.jpeg', 'profile_link_color': '1DA1F2', 'profile_sidebar_border_color': 'C0DEED', 'profile_sidebar_fill_color': 'DDEEF6', 'profile_text_color': '333333', 'profile_use_background_image': True, 'has_extended_profile': False, 'default_profile': True, 'default_profile_image': False, 'following': False, 'follow_request_sent': False, 'notifications': False, 'translator_type': 'none'}, id=2401208905, id_str='2401208905', name='세상을 아름답게', screen_name='lovetree35', location='', description='항상 긍정적인 생각으로 살아가자', url=None, entities={'description': {'urls': []}}, protected=False, followers_count=8235, friends_count=7618, listed_count=15, created_at=datetime.datetime(2014, 3, 21, 8, 18, 1), favourites_count=518, utc_offset=None, time_zone=None, geo_enabled=False, verified=False, statuses_count=46957, lang=None, contributors_enabled=False, is_translator=False, is_translation_enabled=False, profile_background_color='C0DEED', profile_background_image_url='http://abs.twimg.com/images/themes/theme1/bg.png', profile_background_image_url_https='https://abs.twimg.com/images/themes/theme1/bg.png', profile_background_tile=False, profile_image_url='http://pbs.twimg.com/profile_images/559739036600774656/9STZLIzR_normal.jpeg', profile_image_url_https='https://pbs.twimg.com/profile_images/559739036600774656/9STZLIzR_normal.jpeg', profile_link_color='1DA1F2', profile_sidebar_border_color='C0DEED', profile_sidebar_fill_color='DDEEF6', profile_text_color='333333', profile_use_background_image=True, has_extended_profile=False, default_profile=True, default_profile_image=False, following=False, follow_request_sent=False, notifications=False, translator_type='none'), user=User(_api=<tweepy.api.API object at 0x000001EB5EECED48>, _json={'id': 2401208905, 'id_str': '2401208905', 'name': '세상을 아름답게', 'screen_name': 'lovetree35', 'location': '', 'description': '항상 긍정적인 생각으로 살아가자', 'url': None, 'entities': {'description': {'urls': []}}, 'protected': False, 'followers_count': 8235, 'friends_count': 7618, 'listed_count': 15, 'created_at': 'Fri Mar 21 08:18:01 +0000 2014', 'favourites_count': 518, 'utc_offset': None, 'time_zone': None, 'geo_enabled': False, 'verified': False, 'statuses_count': 46957, 'lang': None, 'contributors_enabled': False, 'is_translator': False, 'is_translation_enabled': False, 'profile_background_color': 'C0DEED', 'profile_background_image_url': 'http://abs.twimg.com/images/themes/theme1/bg.png', 'profile_background_image_url_https': 'https://abs.twimg.com/images/themes/theme1/bg.png', 'profile_background_tile': False, 'profile_image_url': 'http://pbs.twimg.com/profile_images/559739036600774656/9STZLIzR_normal.jpeg', 'profile_image_url_https': 'https://pbs.twimg.com/profile_images/559739036600774656/9STZLIzR_normal.jpeg', 'profile_link_color': '1DA1F2', 'profile_sidebar_border_color': 'C0DEED', 'profile_sidebar_fill_color': 'DDEEF6', 'profile_text_color': '333333', 'profile_use_background_image': True, 'has_extended_profile': False, 'default_profile': True, 'default_profile_image': False, 'following': False, 'follow_request_sent': False, 'notifications': False, 'translator_type': 'none'}, id=2401208905, id_str='2401208905', name='세상을 아름답게', screen_name='lovetree35', location='', description='항상 긍정적인 생각으로 살아가자', url=None, entities={'description': {'urls': []}}, protected=False, followers_count=8235, friends_count=7618, listed_count=15, created_at=datetime.datetime(2014, 3, 21, 8, 18, 1), favourites_count=518, utc_offset=None, time_zone=None, geo_enabled=False, verified=False, statuses_count=46957, lang=None, contributors_enabled=False, is_translator=False, is_translation_enabled=False, profile_background_color='C0DEED', profile_background_image_url='http://abs.twimg.com/images/themes/theme1/bg.png', profile_background_image_url_https='https://abs.twimg.com/images/themes/theme1/bg.png', profile_background_tile=False, profile_image_url='http://pbs.twimg.com/profile_images/559739036600774656/9STZLIzR_normal.jpeg', profile_image_url_https='https://pbs.twimg.com/profile_images/559739036600774656/9STZLIzR_normal.jpeg', profile_link_color='1DA1F2', profile_sidebar_border_color='C0DEED', profile_sidebar_fill_color='DDEEF6', profile_text_color='333333', profile_use_background_image=True, has_extended_profile=False, default_profile=True, default_profile_image=False, following=False, follow_request_sent=False, notifications=False, translator_type='none'), geo=None, coordinates=None, place=None, contributors=None, is_quote_status=False, retweet_count=0, favorite_count=0, favorited=False, retweeted=False, possibly_sensitive=False, lang='en') \n",
      "\n",
      "******************************\n",
      "Status(_api=<tweepy.api.API object at 0x000001EB5EECED48>, _json={'created_at': 'Sun Nov 22 14:02:43 +0000 2020', 'id': 1330512036908982283, 'id_str': '1330512036908982283', 'full_text': 'Worst things to do while dining out during COVID-19, according to servers https://t.co/gepTsmfDhq', 'truncated': False, 'display_text_range': [0, 97], 'entities': {'hashtags': [], 'symbols': [], 'user_mentions': [], 'urls': [{'url': 'https://t.co/gepTsmfDhq', 'expanded_url': 'https://www.yahoo.com/huffpost/worst-things-dining-out-covid-19-servers-104500201.html?soc_src=social-sh&soc_trk=tw&tsrc=twtr', 'display_url': 'yahoo.com/huffpost/worst…', 'indices': [74, 97]}]}, 'metadata': {'iso_language_code': 'en', 'result_type': 'recent'}, 'source': '<a href=\"https://mobile.twitter.com\" rel=\"nofollow\">Twitter Web App</a>', 'in_reply_to_status_id': None, 'in_reply_to_status_id_str': None, 'in_reply_to_user_id': None, 'in_reply_to_user_id_str': None, 'in_reply_to_screen_name': None, 'user': {'id': 247298822, 'id_str': '247298822', 'name': 'Scott Anthony', 'screen_name': 'ScottAnthonyPME', 'location': 'Punxsutawney, PA', 'description': '', 'url': 'https://t.co/OXxjFaYHZn', 'entities': {'url': {'urls': [{'url': 'https://t.co/OXxjFaYHZn', 'expanded_url': 'http://www.PizzaMarketingExpert.com', 'display_url': 'PizzaMarketingExpert.com', 'indices': [0, 23]}]}, 'description': {'urls': []}}, 'protected': False, 'followers_count': 354, 'friends_count': 209, 'listed_count': 8, 'created_at': 'Fri Feb 04 14:22:51 +0000 2011', 'favourites_count': 234, 'utc_offset': None, 'time_zone': None, 'geo_enabled': True, 'verified': False, 'statuses_count': 1978, 'lang': None, 'contributors_enabled': False, 'is_translator': False, 'is_translation_enabled': False, 'profile_background_color': 'B2DFDA', 'profile_background_image_url': 'http://abs.twimg.com/images/themes/theme13/bg.gif', 'profile_background_image_url_https': 'https://abs.twimg.com/images/themes/theme13/bg.gif', 'profile_background_tile': False, 'profile_image_url': 'http://pbs.twimg.com/profile_images/1234614216/75bestfix_normal.jpg', 'profile_image_url_https': 'https://pbs.twimg.com/profile_images/1234614216/75bestfix_normal.jpg', 'profile_banner_url': 'https://pbs.twimg.com/profile_banners/247298822/1392666278', 'profile_link_color': 'A66244', 'profile_sidebar_border_color': 'EEEEEE', 'profile_sidebar_fill_color': 'FFFFFF', 'profile_text_color': '333333', 'profile_use_background_image': True, 'has_extended_profile': False, 'default_profile': False, 'default_profile_image': False, 'following': False, 'follow_request_sent': False, 'notifications': False, 'translator_type': 'none'}, 'geo': None, 'coordinates': None, 'place': None, 'contributors': None, 'is_quote_status': False, 'retweet_count': 0, 'favorite_count': 0, 'favorited': False, 'retweeted': False, 'possibly_sensitive': False, 'lang': 'en'}, created_at=datetime.datetime(2020, 11, 22, 14, 2, 43), id=1330512036908982283, id_str='1330512036908982283', full_text='Worst things to do while dining out during COVID-19, according to servers https://t.co/gepTsmfDhq', truncated=False, display_text_range=[0, 97], entities={'hashtags': [], 'symbols': [], 'user_mentions': [], 'urls': [{'url': 'https://t.co/gepTsmfDhq', 'expanded_url': 'https://www.yahoo.com/huffpost/worst-things-dining-out-covid-19-servers-104500201.html?soc_src=social-sh&soc_trk=tw&tsrc=twtr', 'display_url': 'yahoo.com/huffpost/worst…', 'indices': [74, 97]}]}, metadata={'iso_language_code': 'en', 'result_type': 'recent'}, source='Twitter Web App', source_url='https://mobile.twitter.com', in_reply_to_status_id=None, in_reply_to_status_id_str=None, in_reply_to_user_id=None, in_reply_to_user_id_str=None, in_reply_to_screen_name=None, author=User(_api=<tweepy.api.API object at 0x000001EB5EECED48>, _json={'id': 247298822, 'id_str': '247298822', 'name': 'Scott Anthony', 'screen_name': 'ScottAnthonyPME', 'location': 'Punxsutawney, PA', 'description': '', 'url': 'https://t.co/OXxjFaYHZn', 'entities': {'url': {'urls': [{'url': 'https://t.co/OXxjFaYHZn', 'expanded_url': 'http://www.PizzaMarketingExpert.com', 'display_url': 'PizzaMarketingExpert.com', 'indices': [0, 23]}]}, 'description': {'urls': []}}, 'protected': False, 'followers_count': 354, 'friends_count': 209, 'listed_count': 8, 'created_at': 'Fri Feb 04 14:22:51 +0000 2011', 'favourites_count': 234, 'utc_offset': None, 'time_zone': None, 'geo_enabled': True, 'verified': False, 'statuses_count': 1978, 'lang': None, 'contributors_enabled': False, 'is_translator': False, 'is_translation_enabled': False, 'profile_background_color': 'B2DFDA', 'profile_background_image_url': 'http://abs.twimg.com/images/themes/theme13/bg.gif', 'profile_background_image_url_https': 'https://abs.twimg.com/images/themes/theme13/bg.gif', 'profile_background_tile': False, 'profile_image_url': 'http://pbs.twimg.com/profile_images/1234614216/75bestfix_normal.jpg', 'profile_image_url_https': 'https://pbs.twimg.com/profile_images/1234614216/75bestfix_normal.jpg', 'profile_banner_url': 'https://pbs.twimg.com/profile_banners/247298822/1392666278', 'profile_link_color': 'A66244', 'profile_sidebar_border_color': 'EEEEEE', 'profile_sidebar_fill_color': 'FFFFFF', 'profile_text_color': '333333', 'profile_use_background_image': True, 'has_extended_profile': False, 'default_profile': False, 'default_profile_image': False, 'following': False, 'follow_request_sent': False, 'notifications': False, 'translator_type': 'none'}, id=247298822, id_str='247298822', name='Scott Anthony', screen_name='ScottAnthonyPME', location='Punxsutawney, PA', description='', url='https://t.co/OXxjFaYHZn', entities={'url': {'urls': [{'url': 'https://t.co/OXxjFaYHZn', 'expanded_url': 'http://www.PizzaMarketingExpert.com', 'display_url': 'PizzaMarketingExpert.com', 'indices': [0, 23]}]}, 'description': {'urls': []}}, protected=False, followers_count=354, friends_count=209, listed_count=8, created_at=datetime.datetime(2011, 2, 4, 14, 22, 51), favourites_count=234, utc_offset=None, time_zone=None, geo_enabled=True, verified=False, statuses_count=1978, lang=None, contributors_enabled=False, is_translator=False, is_translation_enabled=False, profile_background_color='B2DFDA', profile_background_image_url='http://abs.twimg.com/images/themes/theme13/bg.gif', profile_background_image_url_https='https://abs.twimg.com/images/themes/theme13/bg.gif', profile_background_tile=False, profile_image_url='http://pbs.twimg.com/profile_images/1234614216/75bestfix_normal.jpg', profile_image_url_https='https://pbs.twimg.com/profile_images/1234614216/75bestfix_normal.jpg', profile_banner_url='https://pbs.twimg.com/profile_banners/247298822/1392666278', profile_link_color='A66244', profile_sidebar_border_color='EEEEEE', profile_sidebar_fill_color='FFFFFF', profile_text_color='333333', profile_use_background_image=True, has_extended_profile=False, default_profile=False, default_profile_image=False, following=False, follow_request_sent=False, notifications=False, translator_type='none'), user=User(_api=<tweepy.api.API object at 0x000001EB5EECED48>, _json={'id': 247298822, 'id_str': '247298822', 'name': 'Scott Anthony', 'screen_name': 'ScottAnthonyPME', 'location': 'Punxsutawney, PA', 'description': '', 'url': 'https://t.co/OXxjFaYHZn', 'entities': {'url': {'urls': [{'url': 'https://t.co/OXxjFaYHZn', 'expanded_url': 'http://www.PizzaMarketingExpert.com', 'display_url': 'PizzaMarketingExpert.com', 'indices': [0, 23]}]}, 'description': {'urls': []}}, 'protected': False, 'followers_count': 354, 'friends_count': 209, 'listed_count': 8, 'created_at': 'Fri Feb 04 14:22:51 +0000 2011', 'favourites_count': 234, 'utc_offset': None, 'time_zone': None, 'geo_enabled': True, 'verified': False, 'statuses_count': 1978, 'lang': None, 'contributors_enabled': False, 'is_translator': False, 'is_translation_enabled': False, 'profile_background_color': 'B2DFDA', 'profile_background_image_url': 'http://abs.twimg.com/images/themes/theme13/bg.gif', 'profile_background_image_url_https': 'https://abs.twimg.com/images/themes/theme13/bg.gif', 'profile_background_tile': False, 'profile_image_url': 'http://pbs.twimg.com/profile_images/1234614216/75bestfix_normal.jpg', 'profile_image_url_https': 'https://pbs.twimg.com/profile_images/1234614216/75bestfix_normal.jpg', 'profile_banner_url': 'https://pbs.twimg.com/profile_banners/247298822/1392666278', 'profile_link_color': 'A66244', 'profile_sidebar_border_color': 'EEEEEE', 'profile_sidebar_fill_color': 'FFFFFF', 'profile_text_color': '333333', 'profile_use_background_image': True, 'has_extended_profile': False, 'default_profile': False, 'default_profile_image': False, 'following': False, 'follow_request_sent': False, 'notifications': False, 'translator_type': 'none'}, id=247298822, id_str='247298822', name='Scott Anthony', screen_name='ScottAnthonyPME', location='Punxsutawney, PA', description='', url='https://t.co/OXxjFaYHZn', entities={'url': {'urls': [{'url': 'https://t.co/OXxjFaYHZn', 'expanded_url': 'http://www.PizzaMarketingExpert.com', 'display_url': 'PizzaMarketingExpert.com', 'indices': [0, 23]}]}, 'description': {'urls': []}}, protected=False, followers_count=354, friends_count=209, listed_count=8, created_at=datetime.datetime(2011, 2, 4, 14, 22, 51), favourites_count=234, utc_offset=None, time_zone=None, geo_enabled=True, verified=False, statuses_count=1978, lang=None, contributors_enabled=False, is_translator=False, is_translation_enabled=False, profile_background_color='B2DFDA', profile_background_image_url='http://abs.twimg.com/images/themes/theme13/bg.gif', profile_background_image_url_https='https://abs.twimg.com/images/themes/theme13/bg.gif', profile_background_tile=False, profile_image_url='http://pbs.twimg.com/profile_images/1234614216/75bestfix_normal.jpg', profile_image_url_https='https://pbs.twimg.com/profile_images/1234614216/75bestfix_normal.jpg', profile_banner_url='https://pbs.twimg.com/profile_banners/247298822/1392666278', profile_link_color='A66244', profile_sidebar_border_color='EEEEEE', profile_sidebar_fill_color='FFFFFF', profile_text_color='333333', profile_use_background_image=True, has_extended_profile=False, default_profile=False, default_profile_image=False, following=False, follow_request_sent=False, notifications=False, translator_type='none'), geo=None, coordinates=None, place=None, contributors=None, is_quote_status=False, retweet_count=0, favorite_count=0, favorited=False, retweeted=False, possibly_sensitive=False, lang='en') \n",
      "\n",
      "******************************\n",
      "Status(_api=<tweepy.api.API object at 0x000001EB5EECED48>, _json={'created_at': 'Sun Nov 22 14:02:42 +0000 2020', 'id': 1330512029426315265, 'id_str': '1330512029426315265', 'full_text': \"We're going to be dealing with a lot of sick people with pre-existing conditions long after the COVID-19 vaccines are distributed and effective in stopping the spread.\", 'truncated': False, 'display_text_range': [0, 167], 'entities': {'hashtags': [], 'symbols': [], 'user_mentions': [], 'urls': []}, 'metadata': {'iso_language_code': 'en', 'result_type': 'recent'}, 'source': '<a href=\"https://mobile.twitter.com\" rel=\"nofollow\">Twitter Web App</a>', 'in_reply_to_status_id': None, 'in_reply_to_status_id_str': None, 'in_reply_to_user_id': None, 'in_reply_to_user_id_str': None, 'in_reply_to_screen_name': None, 'user': {'id': 187586263, 'id_str': '187586263', 'name': 'AZSteve54 🇺🇸🇪🇨🌵🍔We turned Arizona BLUE!!!!', 'screen_name': 'AZSteve54', 'location': 'Cuenca,Ecuador & Scottsdale,AZ', 'description': 'Healthcare refugee from AZ, living in Ecuador. Biker, hiker, birder.I have never in 65 years, voted Repub #RESIST #FBR #BLM  No DMs REALLY NO DMs', 'url': None, 'entities': {'description': {'urls': []}}, 'protected': False, 'followers_count': 9173, 'friends_count': 10082, 'listed_count': 5, 'created_at': 'Mon Sep 06 16:52:25 +0000 2010', 'favourites_count': 3658, 'utc_offset': None, 'time_zone': None, 'geo_enabled': False, 'verified': False, 'statuses_count': 6977, 'lang': None, 'contributors_enabled': False, 'is_translator': False, 'is_translation_enabled': False, 'profile_background_color': 'C0DEED', 'profile_background_image_url': 'http://abs.twimg.com/images/themes/theme1/bg.png', 'profile_background_image_url_https': 'https://abs.twimg.com/images/themes/theme1/bg.png', 'profile_background_tile': False, 'profile_image_url': 'http://pbs.twimg.com/profile_images/1272292454193139713/pGr5qnK8_normal.jpg', 'profile_image_url_https': 'https://pbs.twimg.com/profile_images/1272292454193139713/pGr5qnK8_normal.jpg', 'profile_banner_url': 'https://pbs.twimg.com/profile_banners/187586263/1597181852', 'profile_link_color': '91D2FA', 'profile_sidebar_border_color': 'C0DEED', 'profile_sidebar_fill_color': 'DDEEF6', 'profile_text_color': '333333', 'profile_use_background_image': True, 'has_extended_profile': True, 'default_profile': False, 'default_profile_image': False, 'following': False, 'follow_request_sent': False, 'notifications': False, 'translator_type': 'none'}, 'geo': None, 'coordinates': None, 'place': None, 'contributors': None, 'is_quote_status': False, 'retweet_count': 0, 'favorite_count': 0, 'favorited': False, 'retweeted': False, 'lang': 'en'}, created_at=datetime.datetime(2020, 11, 22, 14, 2, 42), id=1330512029426315265, id_str='1330512029426315265', full_text=\"We're going to be dealing with a lot of sick people with pre-existing conditions long after the COVID-19 vaccines are distributed and effective in stopping the spread.\", truncated=False, display_text_range=[0, 167], entities={'hashtags': [], 'symbols': [], 'user_mentions': [], 'urls': []}, metadata={'iso_language_code': 'en', 'result_type': 'recent'}, source='Twitter Web App', source_url='https://mobile.twitter.com', in_reply_to_status_id=None, in_reply_to_status_id_str=None, in_reply_to_user_id=None, in_reply_to_user_id_str=None, in_reply_to_screen_name=None, author=User(_api=<tweepy.api.API object at 0x000001EB5EECED48>, _json={'id': 187586263, 'id_str': '187586263', 'name': 'AZSteve54 🇺🇸🇪🇨🌵🍔We turned Arizona BLUE!!!!', 'screen_name': 'AZSteve54', 'location': 'Cuenca,Ecuador & Scottsdale,AZ', 'description': 'Healthcare refugee from AZ, living in Ecuador. Biker, hiker, birder.I have never in 65 years, voted Repub #RESIST #FBR #BLM  No DMs REALLY NO DMs', 'url': None, 'entities': {'description': {'urls': []}}, 'protected': False, 'followers_count': 9173, 'friends_count': 10082, 'listed_count': 5, 'created_at': 'Mon Sep 06 16:52:25 +0000 2010', 'favourites_count': 3658, 'utc_offset': None, 'time_zone': None, 'geo_enabled': False, 'verified': False, 'statuses_count': 6977, 'lang': None, 'contributors_enabled': False, 'is_translator': False, 'is_translation_enabled': False, 'profile_background_color': 'C0DEED', 'profile_background_image_url': 'http://abs.twimg.com/images/themes/theme1/bg.png', 'profile_background_image_url_https': 'https://abs.twimg.com/images/themes/theme1/bg.png', 'profile_background_tile': False, 'profile_image_url': 'http://pbs.twimg.com/profile_images/1272292454193139713/pGr5qnK8_normal.jpg', 'profile_image_url_https': 'https://pbs.twimg.com/profile_images/1272292454193139713/pGr5qnK8_normal.jpg', 'profile_banner_url': 'https://pbs.twimg.com/profile_banners/187586263/1597181852', 'profile_link_color': '91D2FA', 'profile_sidebar_border_color': 'C0DEED', 'profile_sidebar_fill_color': 'DDEEF6', 'profile_text_color': '333333', 'profile_use_background_image': True, 'has_extended_profile': True, 'default_profile': False, 'default_profile_image': False, 'following': False, 'follow_request_sent': False, 'notifications': False, 'translator_type': 'none'}, id=187586263, id_str='187586263', name='AZSteve54 🇺🇸🇪🇨🌵🍔We turned Arizona BLUE!!!!', screen_name='AZSteve54', location='Cuenca,Ecuador & Scottsdale,AZ', description='Healthcare refugee from AZ, living in Ecuador. Biker, hiker, birder.I have never in 65 years, voted Repub #RESIST #FBR #BLM  No DMs REALLY NO DMs', url=None, entities={'description': {'urls': []}}, protected=False, followers_count=9173, friends_count=10082, listed_count=5, created_at=datetime.datetime(2010, 9, 6, 16, 52, 25), favourites_count=3658, utc_offset=None, time_zone=None, geo_enabled=False, verified=False, statuses_count=6977, lang=None, contributors_enabled=False, is_translator=False, is_translation_enabled=False, profile_background_color='C0DEED', profile_background_image_url='http://abs.twimg.com/images/themes/theme1/bg.png', profile_background_image_url_https='https://abs.twimg.com/images/themes/theme1/bg.png', profile_background_tile=False, profile_image_url='http://pbs.twimg.com/profile_images/1272292454193139713/pGr5qnK8_normal.jpg', profile_image_url_https='https://pbs.twimg.com/profile_images/1272292454193139713/pGr5qnK8_normal.jpg', profile_banner_url='https://pbs.twimg.com/profile_banners/187586263/1597181852', profile_link_color='91D2FA', profile_sidebar_border_color='C0DEED', profile_sidebar_fill_color='DDEEF6', profile_text_color='333333', profile_use_background_image=True, has_extended_profile=True, default_profile=False, default_profile_image=False, following=False, follow_request_sent=False, notifications=False, translator_type='none'), user=User(_api=<tweepy.api.API object at 0x000001EB5EECED48>, _json={'id': 187586263, 'id_str': '187586263', 'name': 'AZSteve54 🇺🇸🇪🇨🌵🍔We turned Arizona BLUE!!!!', 'screen_name': 'AZSteve54', 'location': 'Cuenca,Ecuador & Scottsdale,AZ', 'description': 'Healthcare refugee from AZ, living in Ecuador. Biker, hiker, birder.I have never in 65 years, voted Repub #RESIST #FBR #BLM  No DMs REALLY NO DMs', 'url': None, 'entities': {'description': {'urls': []}}, 'protected': False, 'followers_count': 9173, 'friends_count': 10082, 'listed_count': 5, 'created_at': 'Mon Sep 06 16:52:25 +0000 2010', 'favourites_count': 3658, 'utc_offset': None, 'time_zone': None, 'geo_enabled': False, 'verified': False, 'statuses_count': 6977, 'lang': None, 'contributors_enabled': False, 'is_translator': False, 'is_translation_enabled': False, 'profile_background_color': 'C0DEED', 'profile_background_image_url': 'http://abs.twimg.com/images/themes/theme1/bg.png', 'profile_background_image_url_https': 'https://abs.twimg.com/images/themes/theme1/bg.png', 'profile_background_tile': False, 'profile_image_url': 'http://pbs.twimg.com/profile_images/1272292454193139713/pGr5qnK8_normal.jpg', 'profile_image_url_https': 'https://pbs.twimg.com/profile_images/1272292454193139713/pGr5qnK8_normal.jpg', 'profile_banner_url': 'https://pbs.twimg.com/profile_banners/187586263/1597181852', 'profile_link_color': '91D2FA', 'profile_sidebar_border_color': 'C0DEED', 'profile_sidebar_fill_color': 'DDEEF6', 'profile_text_color': '333333', 'profile_use_background_image': True, 'has_extended_profile': True, 'default_profile': False, 'default_profile_image': False, 'following': False, 'follow_request_sent': False, 'notifications': False, 'translator_type': 'none'}, id=187586263, id_str='187586263', name='AZSteve54 🇺🇸🇪🇨🌵🍔We turned Arizona BLUE!!!!', screen_name='AZSteve54', location='Cuenca,Ecuador & Scottsdale,AZ', description='Healthcare refugee from AZ, living in Ecuador. Biker, hiker, birder.I have never in 65 years, voted Repub #RESIST #FBR #BLM  No DMs REALLY NO DMs', url=None, entities={'description': {'urls': []}}, protected=False, followers_count=9173, friends_count=10082, listed_count=5, created_at=datetime.datetime(2010, 9, 6, 16, 52, 25), favourites_count=3658, utc_offset=None, time_zone=None, geo_enabled=False, verified=False, statuses_count=6977, lang=None, contributors_enabled=False, is_translator=False, is_translation_enabled=False, profile_background_color='C0DEED', profile_background_image_url='http://abs.twimg.com/images/themes/theme1/bg.png', profile_background_image_url_https='https://abs.twimg.com/images/themes/theme1/bg.png', profile_background_tile=False, profile_image_url='http://pbs.twimg.com/profile_images/1272292454193139713/pGr5qnK8_normal.jpg', profile_image_url_https='https://pbs.twimg.com/profile_images/1272292454193139713/pGr5qnK8_normal.jpg', profile_banner_url='https://pbs.twimg.com/profile_banners/187586263/1597181852', profile_link_color='91D2FA', profile_sidebar_border_color='C0DEED', profile_sidebar_fill_color='DDEEF6', profile_text_color='333333', profile_use_background_image=True, has_extended_profile=True, default_profile=False, default_profile_image=False, following=False, follow_request_sent=False, notifications=False, translator_type='none'), geo=None, coordinates=None, place=None, contributors=None, is_quote_status=False, retweet_count=0, favorite_count=0, favorited=False, retweeted=False, lang='en') \n",
      "\n",
      "******************************\n",
      "Status(_api=<tweepy.api.API object at 0x000001EB5EECED48>, _json={'created_at': 'Sun Nov 22 14:02:39 +0000 2020', 'id': 1330512016826654727, 'id_str': '1330512016826654727', 'full_text': '@DrMuradPTI @DrMuradPTI Sir i deeply respect you and yes, indeed you may be right on your end. But it is true schools, colleges and universities are not completely following the SOPs and taking COVID-19 lightly. Please take these things into considertion too when announcing anything.', 'truncated': False, 'display_text_range': [12, 284], 'entities': {'hashtags': [], 'symbols': [], 'user_mentions': [{'screen_name': 'DrMuradPTI', 'name': 'Murad Raas', 'id': 1317925608, 'id_str': '1317925608', 'indices': [0, 11]}, {'screen_name': 'DrMuradPTI', 'name': 'Murad Raas', 'id': 1317925608, 'id_str': '1317925608', 'indices': [12, 23]}], 'urls': []}, 'metadata': {'iso_language_code': 'en', 'result_type': 'recent'}, 'source': '<a href=\"http://twitter.com/download/android\" rel=\"nofollow\">Twitter for Android</a>', 'in_reply_to_status_id': 1330389494235852802, 'in_reply_to_status_id_str': '1330389494235852802', 'in_reply_to_user_id': 1317925608, 'in_reply_to_user_id_str': '1317925608', 'in_reply_to_screen_name': 'DrMuradPTI', 'user': {'id': 814462204137373696, 'id_str': '814462204137373696', 'name': 'Sajjad Haider', 'screen_name': 'dhaseejutt1', 'location': 'Punjab, Pakistan', 'description': '', 'url': None, 'entities': {'description': {'urls': []}}, 'protected': False, 'followers_count': 4, 'friends_count': 64, 'listed_count': 0, 'created_at': 'Thu Dec 29 13:24:56 +0000 2016', 'favourites_count': 166, 'utc_offset': None, 'time_zone': None, 'geo_enabled': False, 'verified': False, 'statuses_count': 34, 'lang': None, 'contributors_enabled': False, 'is_translator': False, 'is_translation_enabled': False, 'profile_background_color': 'C0DEED', 'profile_background_image_url': 'http://abs.twimg.com/images/themes/theme1/bg.png', 'profile_background_image_url_https': 'https://abs.twimg.com/images/themes/theme1/bg.png', 'profile_background_tile': False, 'profile_image_url': 'http://pbs.twimg.com/profile_images/1234154265238818816/k4_GysyV_normal.jpg', 'profile_image_url_https': 'https://pbs.twimg.com/profile_images/1234154265238818816/k4_GysyV_normal.jpg', 'profile_link_color': '1DA1F2', 'profile_sidebar_border_color': 'C0DEED', 'profile_sidebar_fill_color': 'DDEEF6', 'profile_text_color': '333333', 'profile_use_background_image': True, 'has_extended_profile': True, 'default_profile': True, 'default_profile_image': False, 'following': False, 'follow_request_sent': False, 'notifications': False, 'translator_type': 'none'}, 'geo': None, 'coordinates': None, 'place': None, 'contributors': None, 'is_quote_status': False, 'retweet_count': 0, 'favorite_count': 0, 'favorited': False, 'retweeted': False, 'lang': 'en'}, created_at=datetime.datetime(2020, 11, 22, 14, 2, 39), id=1330512016826654727, id_str='1330512016826654727', full_text='@DrMuradPTI @DrMuradPTI Sir i deeply respect you and yes, indeed you may be right on your end. But it is true schools, colleges and universities are not completely following the SOPs and taking COVID-19 lightly. Please take these things into considertion too when announcing anything.', truncated=False, display_text_range=[12, 284], entities={'hashtags': [], 'symbols': [], 'user_mentions': [{'screen_name': 'DrMuradPTI', 'name': 'Murad Raas', 'id': 1317925608, 'id_str': '1317925608', 'indices': [0, 11]}, {'screen_name': 'DrMuradPTI', 'name': 'Murad Raas', 'id': 1317925608, 'id_str': '1317925608', 'indices': [12, 23]}], 'urls': []}, metadata={'iso_language_code': 'en', 'result_type': 'recent'}, source='Twitter for Android', source_url='http://twitter.com/download/android', in_reply_to_status_id=1330389494235852802, in_reply_to_status_id_str='1330389494235852802', in_reply_to_user_id=1317925608, in_reply_to_user_id_str='1317925608', in_reply_to_screen_name='DrMuradPTI', author=User(_api=<tweepy.api.API object at 0x000001EB5EECED48>, _json={'id': 814462204137373696, 'id_str': '814462204137373696', 'name': 'Sajjad Haider', 'screen_name': 'dhaseejutt1', 'location': 'Punjab, Pakistan', 'description': '', 'url': None, 'entities': {'description': {'urls': []}}, 'protected': False, 'followers_count': 4, 'friends_count': 64, 'listed_count': 0, 'created_at': 'Thu Dec 29 13:24:56 +0000 2016', 'favourites_count': 166, 'utc_offset': None, 'time_zone': None, 'geo_enabled': False, 'verified': False, 'statuses_count': 34, 'lang': None, 'contributors_enabled': False, 'is_translator': False, 'is_translation_enabled': False, 'profile_background_color': 'C0DEED', 'profile_background_image_url': 'http://abs.twimg.com/images/themes/theme1/bg.png', 'profile_background_image_url_https': 'https://abs.twimg.com/images/themes/theme1/bg.png', 'profile_background_tile': False, 'profile_image_url': 'http://pbs.twimg.com/profile_images/1234154265238818816/k4_GysyV_normal.jpg', 'profile_image_url_https': 'https://pbs.twimg.com/profile_images/1234154265238818816/k4_GysyV_normal.jpg', 'profile_link_color': '1DA1F2', 'profile_sidebar_border_color': 'C0DEED', 'profile_sidebar_fill_color': 'DDEEF6', 'profile_text_color': '333333', 'profile_use_background_image': True, 'has_extended_profile': True, 'default_profile': True, 'default_profile_image': False, 'following': False, 'follow_request_sent': False, 'notifications': False, 'translator_type': 'none'}, id=814462204137373696, id_str='814462204137373696', name='Sajjad Haider', screen_name='dhaseejutt1', location='Punjab, Pakistan', description='', url=None, entities={'description': {'urls': []}}, protected=False, followers_count=4, friends_count=64, listed_count=0, created_at=datetime.datetime(2016, 12, 29, 13, 24, 56), favourites_count=166, utc_offset=None, time_zone=None, geo_enabled=False, verified=False, statuses_count=34, lang=None, contributors_enabled=False, is_translator=False, is_translation_enabled=False, profile_background_color='C0DEED', profile_background_image_url='http://abs.twimg.com/images/themes/theme1/bg.png', profile_background_image_url_https='https://abs.twimg.com/images/themes/theme1/bg.png', profile_background_tile=False, profile_image_url='http://pbs.twimg.com/profile_images/1234154265238818816/k4_GysyV_normal.jpg', profile_image_url_https='https://pbs.twimg.com/profile_images/1234154265238818816/k4_GysyV_normal.jpg', profile_link_color='1DA1F2', profile_sidebar_border_color='C0DEED', profile_sidebar_fill_color='DDEEF6', profile_text_color='333333', profile_use_background_image=True, has_extended_profile=True, default_profile=True, default_profile_image=False, following=False, follow_request_sent=False, notifications=False, translator_type='none'), user=User(_api=<tweepy.api.API object at 0x000001EB5EECED48>, _json={'id': 814462204137373696, 'id_str': '814462204137373696', 'name': 'Sajjad Haider', 'screen_name': 'dhaseejutt1', 'location': 'Punjab, Pakistan', 'description': '', 'url': None, 'entities': {'description': {'urls': []}}, 'protected': False, 'followers_count': 4, 'friends_count': 64, 'listed_count': 0, 'created_at': 'Thu Dec 29 13:24:56 +0000 2016', 'favourites_count': 166, 'utc_offset': None, 'time_zone': None, 'geo_enabled': False, 'verified': False, 'statuses_count': 34, 'lang': None, 'contributors_enabled': False, 'is_translator': False, 'is_translation_enabled': False, 'profile_background_color': 'C0DEED', 'profile_background_image_url': 'http://abs.twimg.com/images/themes/theme1/bg.png', 'profile_background_image_url_https': 'https://abs.twimg.com/images/themes/theme1/bg.png', 'profile_background_tile': False, 'profile_image_url': 'http://pbs.twimg.com/profile_images/1234154265238818816/k4_GysyV_normal.jpg', 'profile_image_url_https': 'https://pbs.twimg.com/profile_images/1234154265238818816/k4_GysyV_normal.jpg', 'profile_link_color': '1DA1F2', 'profile_sidebar_border_color': 'C0DEED', 'profile_sidebar_fill_color': 'DDEEF6', 'profile_text_color': '333333', 'profile_use_background_image': True, 'has_extended_profile': True, 'default_profile': True, 'default_profile_image': False, 'following': False, 'follow_request_sent': False, 'notifications': False, 'translator_type': 'none'}, id=814462204137373696, id_str='814462204137373696', name='Sajjad Haider', screen_name='dhaseejutt1', location='Punjab, Pakistan', description='', url=None, entities={'description': {'urls': []}}, protected=False, followers_count=4, friends_count=64, listed_count=0, created_at=datetime.datetime(2016, 12, 29, 13, 24, 56), favourites_count=166, utc_offset=None, time_zone=None, geo_enabled=False, verified=False, statuses_count=34, lang=None, contributors_enabled=False, is_translator=False, is_translation_enabled=False, profile_background_color='C0DEED', profile_background_image_url='http://abs.twimg.com/images/themes/theme1/bg.png', profile_background_image_url_https='https://abs.twimg.com/images/themes/theme1/bg.png', profile_background_tile=False, profile_image_url='http://pbs.twimg.com/profile_images/1234154265238818816/k4_GysyV_normal.jpg', profile_image_url_https='https://pbs.twimg.com/profile_images/1234154265238818816/k4_GysyV_normal.jpg', profile_link_color='1DA1F2', profile_sidebar_border_color='C0DEED', profile_sidebar_fill_color='DDEEF6', profile_text_color='333333', profile_use_background_image=True, has_extended_profile=True, default_profile=True, default_profile_image=False, following=False, follow_request_sent=False, notifications=False, translator_type='none'), geo=None, coordinates=None, place=None, contributors=None, is_quote_status=False, retweet_count=0, favorite_count=0, favorited=False, retweeted=False, lang='en') \n",
      "\n",
      "******************************\n",
      "Status(_api=<tweepy.api.API object at 0x000001EB5EECED48>, _json={'created_at': 'Sun Nov 22 14:02:38 +0000 2020', 'id': 1330512012829405191, 'id_str': '1330512012829405191', 'full_text': 'Has @USUFootball actually shared numbers from the \"upward trend\" of COVID-19, or may we just safely assume they didn\\'t want a \"lopsided loss\" at the hands of @wyo_football? #GoWyo https://t.co/YA3dZnFUDa via @DeseretNews', 'truncated': False, 'display_text_range': [0, 220], 'entities': {'hashtags': [{'text': 'GoWyo', 'indices': [173, 179]}], 'symbols': [], 'user_mentions': [{'screen_name': 'USUFootball', 'name': 'USU Football', 'id': 80315708, 'id_str': '80315708', 'indices': [4, 16]}, {'screen_name': 'wyo_football', 'name': 'Wyoming Cowboy Football', 'id': 28375849, 'id_str': '28375849', 'indices': [158, 171]}, {'screen_name': 'DeseretNews', 'name': 'Deseret News', 'id': 15050354, 'id_str': '15050354', 'indices': [208, 220]}], 'urls': [{'url': 'https://t.co/YA3dZnFUDa', 'expanded_url': 'https://www.deseret.com/sports/2020/11/20/21575303/utah-state-football-jason-shelley-gary-andersen-mountain-west-conference-pandemic-covid-19', 'display_url': 'deseret.com/sports/2020/11…', 'indices': [180, 203]}]}, 'metadata': {'iso_language_code': 'en', 'result_type': 'recent'}, 'source': '<a href=\"https://mobile.twitter.com\" rel=\"nofollow\">Twitter Web App</a>', 'in_reply_to_status_id': None, 'in_reply_to_status_id_str': None, 'in_reply_to_user_id': None, 'in_reply_to_user_id_str': None, 'in_reply_to_screen_name': None, 'user': {'id': 26296010, 'id_str': '26296010', 'name': 'Kevin Bommer', 'screen_name': 'k_bomb', 'location': 'Westminster, CO', 'description': 'Executive Director, @co_municipal. I ❤️ Colorado cities and towns. @Wyoathletics and @Broncos fan. Occasional marathoner. Opinions are mine. Yours matter, too.', 'url': 'https://t.co/Azl9cl1JDQ', 'entities': {'url': {'urls': [{'url': 'https://t.co/Azl9cl1JDQ', 'expanded_url': 'http://www.cml.org', 'display_url': 'cml.org', 'indices': [0, 23]}]}, 'description': {'urls': []}}, 'protected': False, 'followers_count': 881, 'friends_count': 1544, 'listed_count': 15, 'created_at': 'Tue Mar 24 18:52:28 +0000 2009', 'favourites_count': 2895, 'utc_offset': None, 'time_zone': None, 'geo_enabled': True, 'verified': False, 'statuses_count': 5166, 'lang': None, 'contributors_enabled': False, 'is_translator': False, 'is_translation_enabled': False, 'profile_background_color': 'E6DF8F', 'profile_background_image_url': 'http://abs.twimg.com/images/themes/theme19/bg.gif', 'profile_background_image_url_https': 'https://abs.twimg.com/images/themes/theme19/bg.gif', 'profile_background_tile': True, 'profile_image_url': 'http://pbs.twimg.com/profile_images/1220924214158319616/-kcAgVTX_normal.jpg', 'profile_image_url_https': 'https://pbs.twimg.com/profile_images/1220924214158319616/-kcAgVTX_normal.jpg', 'profile_banner_url': 'https://pbs.twimg.com/profile_banners/26296010/1579925992', 'profile_link_color': '5C4B06', 'profile_sidebar_border_color': 'FFFFFF', 'profile_sidebar_fill_color': 'F6FFD1', 'profile_text_color': '333333', 'profile_use_background_image': True, 'has_extended_profile': True, 'default_profile': False, 'default_profile_image': False, 'following': False, 'follow_request_sent': False, 'notifications': False, 'translator_type': 'none'}, 'geo': None, 'coordinates': None, 'place': None, 'contributors': None, 'is_quote_status': False, 'retweet_count': 0, 'favorite_count': 0, 'favorited': False, 'retweeted': False, 'possibly_sensitive': False, 'lang': 'en'}, created_at=datetime.datetime(2020, 11, 22, 14, 2, 38), id=1330512012829405191, id_str='1330512012829405191', full_text='Has @USUFootball actually shared numbers from the \"upward trend\" of COVID-19, or may we just safely assume they didn\\'t want a \"lopsided loss\" at the hands of @wyo_football? #GoWyo https://t.co/YA3dZnFUDa via @DeseretNews', truncated=False, display_text_range=[0, 220], entities={'hashtags': [{'text': 'GoWyo', 'indices': [173, 179]}], 'symbols': [], 'user_mentions': [{'screen_name': 'USUFootball', 'name': 'USU Football', 'id': 80315708, 'id_str': '80315708', 'indices': [4, 16]}, {'screen_name': 'wyo_football', 'name': 'Wyoming Cowboy Football', 'id': 28375849, 'id_str': '28375849', 'indices': [158, 171]}, {'screen_name': 'DeseretNews', 'name': 'Deseret News', 'id': 15050354, 'id_str': '15050354', 'indices': [208, 220]}], 'urls': [{'url': 'https://t.co/YA3dZnFUDa', 'expanded_url': 'https://www.deseret.com/sports/2020/11/20/21575303/utah-state-football-jason-shelley-gary-andersen-mountain-west-conference-pandemic-covid-19', 'display_url': 'deseret.com/sports/2020/11…', 'indices': [180, 203]}]}, metadata={'iso_language_code': 'en', 'result_type': 'recent'}, source='Twitter Web App', source_url='https://mobile.twitter.com', in_reply_to_status_id=None, in_reply_to_status_id_str=None, in_reply_to_user_id=None, in_reply_to_user_id_str=None, in_reply_to_screen_name=None, author=User(_api=<tweepy.api.API object at 0x000001EB5EECED48>, _json={'id': 26296010, 'id_str': '26296010', 'name': 'Kevin Bommer', 'screen_name': 'k_bomb', 'location': 'Westminster, CO', 'description': 'Executive Director, @co_municipal. I ❤️ Colorado cities and towns. @Wyoathletics and @Broncos fan. Occasional marathoner. Opinions are mine. Yours matter, too.', 'url': 'https://t.co/Azl9cl1JDQ', 'entities': {'url': {'urls': [{'url': 'https://t.co/Azl9cl1JDQ', 'expanded_url': 'http://www.cml.org', 'display_url': 'cml.org', 'indices': [0, 23]}]}, 'description': {'urls': []}}, 'protected': False, 'followers_count': 881, 'friends_count': 1544, 'listed_count': 15, 'created_at': 'Tue Mar 24 18:52:28 +0000 2009', 'favourites_count': 2895, 'utc_offset': None, 'time_zone': None, 'geo_enabled': True, 'verified': False, 'statuses_count': 5166, 'lang': None, 'contributors_enabled': False, 'is_translator': False, 'is_translation_enabled': False, 'profile_background_color': 'E6DF8F', 'profile_background_image_url': 'http://abs.twimg.com/images/themes/theme19/bg.gif', 'profile_background_image_url_https': 'https://abs.twimg.com/images/themes/theme19/bg.gif', 'profile_background_tile': True, 'profile_image_url': 'http://pbs.twimg.com/profile_images/1220924214158319616/-kcAgVTX_normal.jpg', 'profile_image_url_https': 'https://pbs.twimg.com/profile_images/1220924214158319616/-kcAgVTX_normal.jpg', 'profile_banner_url': 'https://pbs.twimg.com/profile_banners/26296010/1579925992', 'profile_link_color': '5C4B06', 'profile_sidebar_border_color': 'FFFFFF', 'profile_sidebar_fill_color': 'F6FFD1', 'profile_text_color': '333333', 'profile_use_background_image': True, 'has_extended_profile': True, 'default_profile': False, 'default_profile_image': False, 'following': False, 'follow_request_sent': False, 'notifications': False, 'translator_type': 'none'}, id=26296010, id_str='26296010', name='Kevin Bommer', screen_name='k_bomb', location='Westminster, CO', description='Executive Director, @co_municipal. I ❤️ Colorado cities and towns. @Wyoathletics and @Broncos fan. Occasional marathoner. Opinions are mine. Yours matter, too.', url='https://t.co/Azl9cl1JDQ', entities={'url': {'urls': [{'url': 'https://t.co/Azl9cl1JDQ', 'expanded_url': 'http://www.cml.org', 'display_url': 'cml.org', 'indices': [0, 23]}]}, 'description': {'urls': []}}, protected=False, followers_count=881, friends_count=1544, listed_count=15, created_at=datetime.datetime(2009, 3, 24, 18, 52, 28), favourites_count=2895, utc_offset=None, time_zone=None, geo_enabled=True, verified=False, statuses_count=5166, lang=None, contributors_enabled=False, is_translator=False, is_translation_enabled=False, profile_background_color='E6DF8F', profile_background_image_url='http://abs.twimg.com/images/themes/theme19/bg.gif', profile_background_image_url_https='https://abs.twimg.com/images/themes/theme19/bg.gif', profile_background_tile=True, profile_image_url='http://pbs.twimg.com/profile_images/1220924214158319616/-kcAgVTX_normal.jpg', profile_image_url_https='https://pbs.twimg.com/profile_images/1220924214158319616/-kcAgVTX_normal.jpg', profile_banner_url='https://pbs.twimg.com/profile_banners/26296010/1579925992', profile_link_color='5C4B06', profile_sidebar_border_color='FFFFFF', profile_sidebar_fill_color='F6FFD1', profile_text_color='333333', profile_use_background_image=True, has_extended_profile=True, default_profile=False, default_profile_image=False, following=False, follow_request_sent=False, notifications=False, translator_type='none'), user=User(_api=<tweepy.api.API object at 0x000001EB5EECED48>, _json={'id': 26296010, 'id_str': '26296010', 'name': 'Kevin Bommer', 'screen_name': 'k_bomb', 'location': 'Westminster, CO', 'description': 'Executive Director, @co_municipal. I ❤️ Colorado cities and towns. @Wyoathletics and @Broncos fan. Occasional marathoner. Opinions are mine. Yours matter, too.', 'url': 'https://t.co/Azl9cl1JDQ', 'entities': {'url': {'urls': [{'url': 'https://t.co/Azl9cl1JDQ', 'expanded_url': 'http://www.cml.org', 'display_url': 'cml.org', 'indices': [0, 23]}]}, 'description': {'urls': []}}, 'protected': False, 'followers_count': 881, 'friends_count': 1544, 'listed_count': 15, 'created_at': 'Tue Mar 24 18:52:28 +0000 2009', 'favourites_count': 2895, 'utc_offset': None, 'time_zone': None, 'geo_enabled': True, 'verified': False, 'statuses_count': 5166, 'lang': None, 'contributors_enabled': False, 'is_translator': False, 'is_translation_enabled': False, 'profile_background_color': 'E6DF8F', 'profile_background_image_url': 'http://abs.twimg.com/images/themes/theme19/bg.gif', 'profile_background_image_url_https': 'https://abs.twimg.com/images/themes/theme19/bg.gif', 'profile_background_tile': True, 'profile_image_url': 'http://pbs.twimg.com/profile_images/1220924214158319616/-kcAgVTX_normal.jpg', 'profile_image_url_https': 'https://pbs.twimg.com/profile_images/1220924214158319616/-kcAgVTX_normal.jpg', 'profile_banner_url': 'https://pbs.twimg.com/profile_banners/26296010/1579925992', 'profile_link_color': '5C4B06', 'profile_sidebar_border_color': 'FFFFFF', 'profile_sidebar_fill_color': 'F6FFD1', 'profile_text_color': '333333', 'profile_use_background_image': True, 'has_extended_profile': True, 'default_profile': False, 'default_profile_image': False, 'following': False, 'follow_request_sent': False, 'notifications': False, 'translator_type': 'none'}, id=26296010, id_str='26296010', name='Kevin Bommer', screen_name='k_bomb', location='Westminster, CO', description='Executive Director, @co_municipal. I ❤️ Colorado cities and towns. @Wyoathletics and @Broncos fan. Occasional marathoner. Opinions are mine. Yours matter, too.', url='https://t.co/Azl9cl1JDQ', entities={'url': {'urls': [{'url': 'https://t.co/Azl9cl1JDQ', 'expanded_url': 'http://www.cml.org', 'display_url': 'cml.org', 'indices': [0, 23]}]}, 'description': {'urls': []}}, protected=False, followers_count=881, friends_count=1544, listed_count=15, created_at=datetime.datetime(2009, 3, 24, 18, 52, 28), favourites_count=2895, utc_offset=None, time_zone=None, geo_enabled=True, verified=False, statuses_count=5166, lang=None, contributors_enabled=False, is_translator=False, is_translation_enabled=False, profile_background_color='E6DF8F', profile_background_image_url='http://abs.twimg.com/images/themes/theme19/bg.gif', profile_background_image_url_https='https://abs.twimg.com/images/themes/theme19/bg.gif', profile_background_tile=True, profile_image_url='http://pbs.twimg.com/profile_images/1220924214158319616/-kcAgVTX_normal.jpg', profile_image_url_https='https://pbs.twimg.com/profile_images/1220924214158319616/-kcAgVTX_normal.jpg', profile_banner_url='https://pbs.twimg.com/profile_banners/26296010/1579925992', profile_link_color='5C4B06', profile_sidebar_border_color='FFFFFF', profile_sidebar_fill_color='F6FFD1', profile_text_color='333333', profile_use_background_image=True, has_extended_profile=True, default_profile=False, default_profile_image=False, following=False, follow_request_sent=False, notifications=False, translator_type='none'), geo=None, coordinates=None, place=None, contributors=None, is_quote_status=False, retweet_count=0, favorite_count=0, favorited=False, retweeted=False, possibly_sensitive=False, lang='en') \n",
      "\n",
      "******************************\n",
      "Status(_api=<tweepy.api.API object at 0x000001EB5EECED48>, _json={'created_at': 'Sun Nov 22 14:02:36 +0000 2020', 'id': 1330512003509653508, 'id_str': '1330512003509653508', 'full_text': '@RichMuny @GovMikeDeWine Maybe COVID-19 is manifesting in urban areas mostly populated by African Americans of lower social economic status. Just my opinion!', 'truncated': False, 'display_text_range': [25, 157], 'entities': {'hashtags': [], 'symbols': [], 'user_mentions': [{'screen_name': 'RichMuny', 'name': 'Rich Muny 🇺🇸', 'id': 20570337, 'id_str': '20570337', 'indices': [0, 9]}, {'screen_name': 'GovMikeDeWine', 'name': 'Governor Mike DeWine', 'id': 18820392, 'id_str': '18820392', 'indices': [10, 24]}], 'urls': []}, 'metadata': {'iso_language_code': 'en', 'result_type': 'recent'}, 'source': '<a href=\"http://twitter.com/download/android\" rel=\"nofollow\">Twitter for Android</a>', 'in_reply_to_status_id': 1329825007376199681, 'in_reply_to_status_id_str': '1329825007376199681', 'in_reply_to_user_id': 20570337, 'in_reply_to_user_id_str': '20570337', 'in_reply_to_screen_name': 'RichMuny', 'user': {'id': 1204936448673296384, 'id_str': '1204936448673296384', 'name': 'BrownieGimpie', 'screen_name': 'QB17807257', 'location': '', 'description': '', 'url': None, 'entities': {'description': {'urls': []}}, 'protected': False, 'followers_count': 2, 'friends_count': 41, 'listed_count': 0, 'created_at': 'Thu Dec 12 01:30:40 +0000 2019', 'favourites_count': 339, 'utc_offset': None, 'time_zone': None, 'geo_enabled': False, 'verified': False, 'statuses_count': 63, 'lang': None, 'contributors_enabled': False, 'is_translator': False, 'is_translation_enabled': False, 'profile_background_color': 'F5F8FA', 'profile_background_image_url': None, 'profile_background_image_url_https': None, 'profile_background_tile': False, 'profile_image_url': 'http://pbs.twimg.com/profile_images/1204937128725110784/Uy5BKn-q_normal.jpg', 'profile_image_url_https': 'https://pbs.twimg.com/profile_images/1204937128725110784/Uy5BKn-q_normal.jpg', 'profile_link_color': '1DA1F2', 'profile_sidebar_border_color': 'C0DEED', 'profile_sidebar_fill_color': 'DDEEF6', 'profile_text_color': '333333', 'profile_use_background_image': True, 'has_extended_profile': True, 'default_profile': True, 'default_profile_image': False, 'following': False, 'follow_request_sent': False, 'notifications': False, 'translator_type': 'none'}, 'geo': None, 'coordinates': None, 'place': None, 'contributors': None, 'is_quote_status': False, 'retweet_count': 0, 'favorite_count': 0, 'favorited': False, 'retweeted': False, 'lang': 'en'}, created_at=datetime.datetime(2020, 11, 22, 14, 2, 36), id=1330512003509653508, id_str='1330512003509653508', full_text='@RichMuny @GovMikeDeWine Maybe COVID-19 is manifesting in urban areas mostly populated by African Americans of lower social economic status. Just my opinion!', truncated=False, display_text_range=[25, 157], entities={'hashtags': [], 'symbols': [], 'user_mentions': [{'screen_name': 'RichMuny', 'name': 'Rich Muny 🇺🇸', 'id': 20570337, 'id_str': '20570337', 'indices': [0, 9]}, {'screen_name': 'GovMikeDeWine', 'name': 'Governor Mike DeWine', 'id': 18820392, 'id_str': '18820392', 'indices': [10, 24]}], 'urls': []}, metadata={'iso_language_code': 'en', 'result_type': 'recent'}, source='Twitter for Android', source_url='http://twitter.com/download/android', in_reply_to_status_id=1329825007376199681, in_reply_to_status_id_str='1329825007376199681', in_reply_to_user_id=20570337, in_reply_to_user_id_str='20570337', in_reply_to_screen_name='RichMuny', author=User(_api=<tweepy.api.API object at 0x000001EB5EECED48>, _json={'id': 1204936448673296384, 'id_str': '1204936448673296384', 'name': 'BrownieGimpie', 'screen_name': 'QB17807257', 'location': '', 'description': '', 'url': None, 'entities': {'description': {'urls': []}}, 'protected': False, 'followers_count': 2, 'friends_count': 41, 'listed_count': 0, 'created_at': 'Thu Dec 12 01:30:40 +0000 2019', 'favourites_count': 339, 'utc_offset': None, 'time_zone': None, 'geo_enabled': False, 'verified': False, 'statuses_count': 63, 'lang': None, 'contributors_enabled': False, 'is_translator': False, 'is_translation_enabled': False, 'profile_background_color': 'F5F8FA', 'profile_background_image_url': None, 'profile_background_image_url_https': None, 'profile_background_tile': False, 'profile_image_url': 'http://pbs.twimg.com/profile_images/1204937128725110784/Uy5BKn-q_normal.jpg', 'profile_image_url_https': 'https://pbs.twimg.com/profile_images/1204937128725110784/Uy5BKn-q_normal.jpg', 'profile_link_color': '1DA1F2', 'profile_sidebar_border_color': 'C0DEED', 'profile_sidebar_fill_color': 'DDEEF6', 'profile_text_color': '333333', 'profile_use_background_image': True, 'has_extended_profile': True, 'default_profile': True, 'default_profile_image': False, 'following': False, 'follow_request_sent': False, 'notifications': False, 'translator_type': 'none'}, id=1204936448673296384, id_str='1204936448673296384', name='BrownieGimpie', screen_name='QB17807257', location='', description='', url=None, entities={'description': {'urls': []}}, protected=False, followers_count=2, friends_count=41, listed_count=0, created_at=datetime.datetime(2019, 12, 12, 1, 30, 40), favourites_count=339, utc_offset=None, time_zone=None, geo_enabled=False, verified=False, statuses_count=63, lang=None, contributors_enabled=False, is_translator=False, is_translation_enabled=False, profile_background_color='F5F8FA', profile_background_image_url=None, profile_background_image_url_https=None, profile_background_tile=False, profile_image_url='http://pbs.twimg.com/profile_images/1204937128725110784/Uy5BKn-q_normal.jpg', profile_image_url_https='https://pbs.twimg.com/profile_images/1204937128725110784/Uy5BKn-q_normal.jpg', profile_link_color='1DA1F2', profile_sidebar_border_color='C0DEED', profile_sidebar_fill_color='DDEEF6', profile_text_color='333333', profile_use_background_image=True, has_extended_profile=True, default_profile=True, default_profile_image=False, following=False, follow_request_sent=False, notifications=False, translator_type='none'), user=User(_api=<tweepy.api.API object at 0x000001EB5EECED48>, _json={'id': 1204936448673296384, 'id_str': '1204936448673296384', 'name': 'BrownieGimpie', 'screen_name': 'QB17807257', 'location': '', 'description': '', 'url': None, 'entities': {'description': {'urls': []}}, 'protected': False, 'followers_count': 2, 'friends_count': 41, 'listed_count': 0, 'created_at': 'Thu Dec 12 01:30:40 +0000 2019', 'favourites_count': 339, 'utc_offset': None, 'time_zone': None, 'geo_enabled': False, 'verified': False, 'statuses_count': 63, 'lang': None, 'contributors_enabled': False, 'is_translator': False, 'is_translation_enabled': False, 'profile_background_color': 'F5F8FA', 'profile_background_image_url': None, 'profile_background_image_url_https': None, 'profile_background_tile': False, 'profile_image_url': 'http://pbs.twimg.com/profile_images/1204937128725110784/Uy5BKn-q_normal.jpg', 'profile_image_url_https': 'https://pbs.twimg.com/profile_images/1204937128725110784/Uy5BKn-q_normal.jpg', 'profile_link_color': '1DA1F2', 'profile_sidebar_border_color': 'C0DEED', 'profile_sidebar_fill_color': 'DDEEF6', 'profile_text_color': '333333', 'profile_use_background_image': True, 'has_extended_profile': True, 'default_profile': True, 'default_profile_image': False, 'following': False, 'follow_request_sent': False, 'notifications': False, 'translator_type': 'none'}, id=1204936448673296384, id_str='1204936448673296384', name='BrownieGimpie', screen_name='QB17807257', location='', description='', url=None, entities={'description': {'urls': []}}, protected=False, followers_count=2, friends_count=41, listed_count=0, created_at=datetime.datetime(2019, 12, 12, 1, 30, 40), favourites_count=339, utc_offset=None, time_zone=None, geo_enabled=False, verified=False, statuses_count=63, lang=None, contributors_enabled=False, is_translator=False, is_translation_enabled=False, profile_background_color='F5F8FA', profile_background_image_url=None, profile_background_image_url_https=None, profile_background_tile=False, profile_image_url='http://pbs.twimg.com/profile_images/1204937128725110784/Uy5BKn-q_normal.jpg', profile_image_url_https='https://pbs.twimg.com/profile_images/1204937128725110784/Uy5BKn-q_normal.jpg', profile_link_color='1DA1F2', profile_sidebar_border_color='C0DEED', profile_sidebar_fill_color='DDEEF6', profile_text_color='333333', profile_use_background_image=True, has_extended_profile=True, default_profile=True, default_profile_image=False, following=False, follow_request_sent=False, notifications=False, translator_type='none'), geo=None, coordinates=None, place=None, contributors=None, is_quote_status=False, retweet_count=0, favorite_count=0, favorited=False, retweeted=False, lang='en') \n",
      "\n",
      "******************************\n",
      "Status(_api=<tweepy.api.API object at 0x000001EB5EECED48>, _json={'created_at': 'Sun Nov 22 14:02:34 +0000 2020', 'id': 1330511995939020800, 'id_str': '1330511995939020800', 'full_text': 'Nice afternoon! Queuing for #Covid_19 #RapidTest https://t.co/6IdlsATglh', 'truncated': False, 'display_text_range': [0, 48], 'entities': {'hashtags': [{'text': 'Covid_19', 'indices': [28, 37]}, {'text': 'RapidTest', 'indices': [38, 48]}], 'symbols': [], 'user_mentions': [], 'urls': [], 'media': [{'id': 1330511981502193665, 'id_str': '1330511981502193665', 'indices': [49, 72], 'media_url': 'http://pbs.twimg.com/media/EnbtmQrW4AE9_J8.jpg', 'media_url_https': 'https://pbs.twimg.com/media/EnbtmQrW4AE9_J8.jpg', 'url': 'https://t.co/6IdlsATglh', 'display_url': 'pic.twitter.com/6IdlsATglh', 'expanded_url': 'https://twitter.com/AAttalides/status/1330511995939020800/photo/1', 'type': 'photo', 'sizes': {'thumb': {'w': 150, 'h': 150, 'resize': 'crop'}, 'medium': {'w': 900, 'h': 1200, 'resize': 'fit'}, 'large': {'w': 1440, 'h': 1920, 'resize': 'fit'}, 'small': {'w': 510, 'h': 680, 'resize': 'fit'}}}]}, 'extended_entities': {'media': [{'id': 1330511981502193665, 'id_str': '1330511981502193665', 'indices': [49, 72], 'media_url': 'http://pbs.twimg.com/media/EnbtmQrW4AE9_J8.jpg', 'media_url_https': 'https://pbs.twimg.com/media/EnbtmQrW4AE9_J8.jpg', 'url': 'https://t.co/6IdlsATglh', 'display_url': 'pic.twitter.com/6IdlsATglh', 'expanded_url': 'https://twitter.com/AAttalides/status/1330511995939020800/photo/1', 'type': 'photo', 'sizes': {'thumb': {'w': 150, 'h': 150, 'resize': 'crop'}, 'medium': {'w': 900, 'h': 1200, 'resize': 'fit'}, 'large': {'w': 1440, 'h': 1920, 'resize': 'fit'}, 'small': {'w': 510, 'h': 680, 'resize': 'fit'}}}, {'id': 1330511989458735116, 'id_str': '1330511989458735116', 'indices': [49, 72], 'media_url': 'http://pbs.twimg.com/media/EnbtmuUWEAwx2y1.jpg', 'media_url_https': 'https://pbs.twimg.com/media/EnbtmuUWEAwx2y1.jpg', 'url': 'https://t.co/6IdlsATglh', 'display_url': 'pic.twitter.com/6IdlsATglh', 'expanded_url': 'https://twitter.com/AAttalides/status/1330511995939020800/photo/1', 'type': 'photo', 'sizes': {'thumb': {'w': 150, 'h': 150, 'resize': 'crop'}, 'medium': {'w': 900, 'h': 1200, 'resize': 'fit'}, 'small': {'w': 510, 'h': 680, 'resize': 'fit'}, 'large': {'w': 1440, 'h': 1920, 'resize': 'fit'}}}]}, 'metadata': {'iso_language_code': 'en', 'result_type': 'recent'}, 'source': '<a href=\"http://twitter.com/download/iphone\" rel=\"nofollow\">Twitter for iPhone</a>', 'in_reply_to_status_id': None, 'in_reply_to_status_id_str': None, 'in_reply_to_user_id': None, 'in_reply_to_user_id_str': None, 'in_reply_to_screen_name': None, 'user': {'id': 526344841, 'id_str': '526344841', 'name': 'Alexandra ATTALIDES', 'screen_name': 'AAttalides', 'location': 'Nicosia, Cyprus', 'description': 'Proud🇪🇺! Dissent=highest form of patriotism! Feminist-Activist Devoted to EU Affairs/Human Rights/Environment/Climate Change. RTs = interest, not endorsement!', 'url': None, 'entities': {'description': {'urls': []}}, 'protected': False, 'followers_count': 5072, 'friends_count': 1109, 'listed_count': 79, 'created_at': 'Fri Mar 16 12:28:55 +0000 2012', 'favourites_count': 19584, 'utc_offset': None, 'time_zone': None, 'geo_enabled': True, 'verified': False, 'statuses_count': 21988, 'lang': None, 'contributors_enabled': False, 'is_translator': False, 'is_translation_enabled': False, 'profile_background_color': '1C9BDB', 'profile_background_image_url': 'http://abs.twimg.com/images/themes/theme1/bg.png', 'profile_background_image_url_https': 'https://abs.twimg.com/images/themes/theme1/bg.png', 'profile_background_tile': False, 'profile_image_url': 'http://pbs.twimg.com/profile_images/1325047849810358277/jqQcKiRw_normal.jpg', 'profile_image_url_https': 'https://pbs.twimg.com/profile_images/1325047849810358277/jqQcKiRw_normal.jpg', 'profile_banner_url': 'https://pbs.twimg.com/profile_banners/526344841/1604750653', 'profile_link_color': '0084B4', 'profile_sidebar_border_color': 'FFFFFF', 'profile_sidebar_fill_color': 'DDEEF6', 'profile_text_color': '333333', 'profile_use_background_image': True, 'has_extended_profile': False, 'default_profile': False, 'default_profile_image': False, 'following': False, 'follow_request_sent': False, 'notifications': False, 'translator_type': 'none'}, 'geo': None, 'coordinates': None, 'place': None, 'contributors': None, 'is_quote_status': False, 'retweet_count': 0, 'favorite_count': 0, 'favorited': False, 'retweeted': False, 'possibly_sensitive': False, 'lang': 'en'}, created_at=datetime.datetime(2020, 11, 22, 14, 2, 34), id=1330511995939020800, id_str='1330511995939020800', full_text='Nice afternoon! Queuing for #Covid_19 #RapidTest https://t.co/6IdlsATglh', truncated=False, display_text_range=[0, 48], entities={'hashtags': [{'text': 'Covid_19', 'indices': [28, 37]}, {'text': 'RapidTest', 'indices': [38, 48]}], 'symbols': [], 'user_mentions': [], 'urls': [], 'media': [{'id': 1330511981502193665, 'id_str': '1330511981502193665', 'indices': [49, 72], 'media_url': 'http://pbs.twimg.com/media/EnbtmQrW4AE9_J8.jpg', 'media_url_https': 'https://pbs.twimg.com/media/EnbtmQrW4AE9_J8.jpg', 'url': 'https://t.co/6IdlsATglh', 'display_url': 'pic.twitter.com/6IdlsATglh', 'expanded_url': 'https://twitter.com/AAttalides/status/1330511995939020800/photo/1', 'type': 'photo', 'sizes': {'thumb': {'w': 150, 'h': 150, 'resize': 'crop'}, 'medium': {'w': 900, 'h': 1200, 'resize': 'fit'}, 'large': {'w': 1440, 'h': 1920, 'resize': 'fit'}, 'small': {'w': 510, 'h': 680, 'resize': 'fit'}}}]}, extended_entities={'media': [{'id': 1330511981502193665, 'id_str': '1330511981502193665', 'indices': [49, 72], 'media_url': 'http://pbs.twimg.com/media/EnbtmQrW4AE9_J8.jpg', 'media_url_https': 'https://pbs.twimg.com/media/EnbtmQrW4AE9_J8.jpg', 'url': 'https://t.co/6IdlsATglh', 'display_url': 'pic.twitter.com/6IdlsATglh', 'expanded_url': 'https://twitter.com/AAttalides/status/1330511995939020800/photo/1', 'type': 'photo', 'sizes': {'thumb': {'w': 150, 'h': 150, 'resize': 'crop'}, 'medium': {'w': 900, 'h': 1200, 'resize': 'fit'}, 'large': {'w': 1440, 'h': 1920, 'resize': 'fit'}, 'small': {'w': 510, 'h': 680, 'resize': 'fit'}}}, {'id': 1330511989458735116, 'id_str': '1330511989458735116', 'indices': [49, 72], 'media_url': 'http://pbs.twimg.com/media/EnbtmuUWEAwx2y1.jpg', 'media_url_https': 'https://pbs.twimg.com/media/EnbtmuUWEAwx2y1.jpg', 'url': 'https://t.co/6IdlsATglh', 'display_url': 'pic.twitter.com/6IdlsATglh', 'expanded_url': 'https://twitter.com/AAttalides/status/1330511995939020800/photo/1', 'type': 'photo', 'sizes': {'thumb': {'w': 150, 'h': 150, 'resize': 'crop'}, 'medium': {'w': 900, 'h': 1200, 'resize': 'fit'}, 'small': {'w': 510, 'h': 680, 'resize': 'fit'}, 'large': {'w': 1440, 'h': 1920, 'resize': 'fit'}}}]}, metadata={'iso_language_code': 'en', 'result_type': 'recent'}, source='Twitter for iPhone', source_url='http://twitter.com/download/iphone', in_reply_to_status_id=None, in_reply_to_status_id_str=None, in_reply_to_user_id=None, in_reply_to_user_id_str=None, in_reply_to_screen_name=None, author=User(_api=<tweepy.api.API object at 0x000001EB5EECED48>, _json={'id': 526344841, 'id_str': '526344841', 'name': 'Alexandra ATTALIDES', 'screen_name': 'AAttalides', 'location': 'Nicosia, Cyprus', 'description': 'Proud🇪🇺! Dissent=highest form of patriotism! Feminist-Activist Devoted to EU Affairs/Human Rights/Environment/Climate Change. RTs = interest, not endorsement!', 'url': None, 'entities': {'description': {'urls': []}}, 'protected': False, 'followers_count': 5072, 'friends_count': 1109, 'listed_count': 79, 'created_at': 'Fri Mar 16 12:28:55 +0000 2012', 'favourites_count': 19584, 'utc_offset': None, 'time_zone': None, 'geo_enabled': True, 'verified': False, 'statuses_count': 21988, 'lang': None, 'contributors_enabled': False, 'is_translator': False, 'is_translation_enabled': False, 'profile_background_color': '1C9BDB', 'profile_background_image_url': 'http://abs.twimg.com/images/themes/theme1/bg.png', 'profile_background_image_url_https': 'https://abs.twimg.com/images/themes/theme1/bg.png', 'profile_background_tile': False, 'profile_image_url': 'http://pbs.twimg.com/profile_images/1325047849810358277/jqQcKiRw_normal.jpg', 'profile_image_url_https': 'https://pbs.twimg.com/profile_images/1325047849810358277/jqQcKiRw_normal.jpg', 'profile_banner_url': 'https://pbs.twimg.com/profile_banners/526344841/1604750653', 'profile_link_color': '0084B4', 'profile_sidebar_border_color': 'FFFFFF', 'profile_sidebar_fill_color': 'DDEEF6', 'profile_text_color': '333333', 'profile_use_background_image': True, 'has_extended_profile': False, 'default_profile': False, 'default_profile_image': False, 'following': False, 'follow_request_sent': False, 'notifications': False, 'translator_type': 'none'}, id=526344841, id_str='526344841', name='Alexandra ATTALIDES', screen_name='AAttalides', location='Nicosia, Cyprus', description='Proud🇪🇺! Dissent=highest form of patriotism! Feminist-Activist Devoted to EU Affairs/Human Rights/Environment/Climate Change. RTs = interest, not endorsement!', url=None, entities={'description': {'urls': []}}, protected=False, followers_count=5072, friends_count=1109, listed_count=79, created_at=datetime.datetime(2012, 3, 16, 12, 28, 55), favourites_count=19584, utc_offset=None, time_zone=None, geo_enabled=True, verified=False, statuses_count=21988, lang=None, contributors_enabled=False, is_translator=False, is_translation_enabled=False, profile_background_color='1C9BDB', profile_background_image_url='http://abs.twimg.com/images/themes/theme1/bg.png', profile_background_image_url_https='https://abs.twimg.com/images/themes/theme1/bg.png', profile_background_tile=False, profile_image_url='http://pbs.twimg.com/profile_images/1325047849810358277/jqQcKiRw_normal.jpg', profile_image_url_https='https://pbs.twimg.com/profile_images/1325047849810358277/jqQcKiRw_normal.jpg', profile_banner_url='https://pbs.twimg.com/profile_banners/526344841/1604750653', profile_link_color='0084B4', profile_sidebar_border_color='FFFFFF', profile_sidebar_fill_color='DDEEF6', profile_text_color='333333', profile_use_background_image=True, has_extended_profile=False, default_profile=False, default_profile_image=False, following=False, follow_request_sent=False, notifications=False, translator_type='none'), user=User(_api=<tweepy.api.API object at 0x000001EB5EECED48>, _json={'id': 526344841, 'id_str': '526344841', 'name': 'Alexandra ATTALIDES', 'screen_name': 'AAttalides', 'location': 'Nicosia, Cyprus', 'description': 'Proud🇪🇺! Dissent=highest form of patriotism! Feminist-Activist Devoted to EU Affairs/Human Rights/Environment/Climate Change. RTs = interest, not endorsement!', 'url': None, 'entities': {'description': {'urls': []}}, 'protected': False, 'followers_count': 5072, 'friends_count': 1109, 'listed_count': 79, 'created_at': 'Fri Mar 16 12:28:55 +0000 2012', 'favourites_count': 19584, 'utc_offset': None, 'time_zone': None, 'geo_enabled': True, 'verified': False, 'statuses_count': 21988, 'lang': None, 'contributors_enabled': False, 'is_translator': False, 'is_translation_enabled': False, 'profile_background_color': '1C9BDB', 'profile_background_image_url': 'http://abs.twimg.com/images/themes/theme1/bg.png', 'profile_background_image_url_https': 'https://abs.twimg.com/images/themes/theme1/bg.png', 'profile_background_tile': False, 'profile_image_url': 'http://pbs.twimg.com/profile_images/1325047849810358277/jqQcKiRw_normal.jpg', 'profile_image_url_https': 'https://pbs.twimg.com/profile_images/1325047849810358277/jqQcKiRw_normal.jpg', 'profile_banner_url': 'https://pbs.twimg.com/profile_banners/526344841/1604750653', 'profile_link_color': '0084B4', 'profile_sidebar_border_color': 'FFFFFF', 'profile_sidebar_fill_color': 'DDEEF6', 'profile_text_color': '333333', 'profile_use_background_image': True, 'has_extended_profile': False, 'default_profile': False, 'default_profile_image': False, 'following': False, 'follow_request_sent': False, 'notifications': False, 'translator_type': 'none'}, id=526344841, id_str='526344841', name='Alexandra ATTALIDES', screen_name='AAttalides', location='Nicosia, Cyprus', description='Proud🇪🇺! Dissent=highest form of patriotism! Feminist-Activist Devoted to EU Affairs/Human Rights/Environment/Climate Change. RTs = interest, not endorsement!', url=None, entities={'description': {'urls': []}}, protected=False, followers_count=5072, friends_count=1109, listed_count=79, created_at=datetime.datetime(2012, 3, 16, 12, 28, 55), favourites_count=19584, utc_offset=None, time_zone=None, geo_enabled=True, verified=False, statuses_count=21988, lang=None, contributors_enabled=False, is_translator=False, is_translation_enabled=False, profile_background_color='1C9BDB', profile_background_image_url='http://abs.twimg.com/images/themes/theme1/bg.png', profile_background_image_url_https='https://abs.twimg.com/images/themes/theme1/bg.png', profile_background_tile=False, profile_image_url='http://pbs.twimg.com/profile_images/1325047849810358277/jqQcKiRw_normal.jpg', profile_image_url_https='https://pbs.twimg.com/profile_images/1325047849810358277/jqQcKiRw_normal.jpg', profile_banner_url='https://pbs.twimg.com/profile_banners/526344841/1604750653', profile_link_color='0084B4', profile_sidebar_border_color='FFFFFF', profile_sidebar_fill_color='DDEEF6', profile_text_color='333333', profile_use_background_image=True, has_extended_profile=False, default_profile=False, default_profile_image=False, following=False, follow_request_sent=False, notifications=False, translator_type='none'), geo=None, coordinates=None, place=None, contributors=None, is_quote_status=False, retweet_count=0, favorite_count=0, favorited=False, retweeted=False, possibly_sensitive=False, lang='en') \n",
      "\n",
      "******************************\n",
      "Status(_api=<tweepy.api.API object at 0x000001EB5EECED48>, _json={'created_at': 'Sun Nov 22 14:02:33 +0000 2020', 'id': 1330511994210971650, 'id_str': '1330511994210971650', 'full_text': \"@abc15 you're really doing a disservice to the community by promoting #covid-19 testing as if it's a silver bullet. https://t.co/34ftp42oIa\", 'truncated': False, 'display_text_range': [0, 115], 'entities': {'hashtags': [{'text': 'covid', 'indices': [70, 76]}], 'symbols': [], 'user_mentions': [{'screen_name': 'abc15', 'name': 'ABC15 Arizona', 'id': 9721292, 'id_str': '9721292', 'indices': [0, 6]}], 'urls': [{'url': 'https://t.co/34ftp42oIa', 'expanded_url': 'https://twitter.com/Local4News/status/1259960266479013888', 'display_url': 'twitter.com/Local4News/sta…', 'indices': [116, 139]}]}, 'metadata': {'iso_language_code': 'en', 'result_type': 'recent'}, 'source': '<a href=\"https://mobile.twitter.com\" rel=\"nofollow\">Twitter Web App</a>', 'in_reply_to_status_id': None, 'in_reply_to_status_id_str': None, 'in_reply_to_user_id': 9721292, 'in_reply_to_user_id_str': '9721292', 'in_reply_to_screen_name': 'abc15', 'user': {'id': 829488246711218178, 'id_str': '829488246711218178', 'name': '🦄 kit10phish🦄', 'screen_name': 'kit10phish', 'location': 'Maricopa County ', 'description': '\"If we were logical, the future would be bleak, indeed. But we are more than logical, we are human beings, and we have faith, and we have hope. . .\"', 'url': None, 'entities': {'description': {'urls': []}}, 'protected': False, 'followers_count': 259, 'friends_count': 158, 'listed_count': 0, 'created_at': 'Thu Feb 09 00:33:03 +0000 2017', 'favourites_count': 64408, 'utc_offset': None, 'time_zone': None, 'geo_enabled': False, 'verified': False, 'statuses_count': 24293, 'lang': None, 'contributors_enabled': False, 'is_translator': False, 'is_translation_enabled': False, 'profile_background_color': '000000', 'profile_background_image_url': 'http://abs.twimg.com/images/themes/theme1/bg.png', 'profile_background_image_url_https': 'https://abs.twimg.com/images/themes/theme1/bg.png', 'profile_background_tile': False, 'profile_image_url': 'http://pbs.twimg.com/profile_images/829496086452514816/W3PN4mtO_normal.jpg', 'profile_image_url_https': 'https://pbs.twimg.com/profile_images/829496086452514816/W3PN4mtO_normal.jpg', 'profile_banner_url': 'https://pbs.twimg.com/profile_banners/829488246711218178/1486745351', 'profile_link_color': '981CEB', 'profile_sidebar_border_color': '000000', 'profile_sidebar_fill_color': '000000', 'profile_text_color': '000000', 'profile_use_background_image': False, 'has_extended_profile': True, 'default_profile': False, 'default_profile_image': False, 'following': False, 'follow_request_sent': False, 'notifications': False, 'translator_type': 'none'}, 'geo': None, 'coordinates': None, 'place': None, 'contributors': None, 'is_quote_status': True, 'quoted_status_id': 1259960266479013888, 'quoted_status_id_str': '1259960266479013888', 'quoted_status': {'created_at': 'Mon May 11 21:35:11 +0000 2020', 'id': 1259960266479013888, 'id_str': '1259960266479013888', 'full_text': 'Why is there so much focus on coronavirus (COVID-19) testing when someone can test negative and then be exposed immediately afterward? https://t.co/otcePDgIW6', 'truncated': False, 'display_text_range': [0, 158], 'entities': {'hashtags': [], 'symbols': [], 'user_mentions': [], 'urls': [{'url': 'https://t.co/otcePDgIW6', 'expanded_url': 'https://www.clickondetroit.com/health/good-health/2020/05/11/why-does-coronavirus-covid-19-testing-matter-so-much/', 'display_url': 'clickondetroit.com/health/good-he…', 'indices': [135, 158]}]}, 'metadata': {'iso_language_code': 'en', 'result_type': 'recent'}, 'source': '<a href=\"https://mobile.twitter.com\" rel=\"nofollow\">Twitter Web App</a>', 'in_reply_to_status_id': None, 'in_reply_to_status_id_str': None, 'in_reply_to_user_id': None, 'in_reply_to_user_id_str': None, 'in_reply_to_screen_name': None, 'user': {'id': 22948692, 'id_str': '22948692', 'name': 'Local 4 WDIV Detroit', 'screen_name': 'Local4News', 'location': 'Detroit, MI', 'description': 'Covering the latest news in the Metro Detroit area and beyond. Tweets managed by @KenHaddad & @ClickOnDetroit. News tip? 📧 News@wdiv.com', 'url': 'https://t.co/jRtD3fY73L', 'entities': {'url': {'urls': [{'url': 'https://t.co/jRtD3fY73L', 'expanded_url': 'http://clickondetroit.com', 'display_url': 'clickondetroit.com', 'indices': [0, 23]}]}, 'description': {'urls': []}}, 'protected': False, 'followers_count': 413515, 'friends_count': 2377, 'listed_count': 2030, 'created_at': 'Thu Mar 05 17:35:23 +0000 2009', 'favourites_count': 4847, 'utc_offset': None, 'time_zone': None, 'geo_enabled': True, 'verified': True, 'statuses_count': 159985, 'lang': None, 'contributors_enabled': False, 'is_translator': False, 'is_translation_enabled': False, 'profile_background_color': 'CCCCCC', 'profile_background_image_url': 'http://abs.twimg.com/images/themes/theme14/bg.gif', 'profile_background_image_url_https': 'https://abs.twimg.com/images/themes/theme14/bg.gif', 'profile_background_tile': True, 'profile_image_url': 'http://pbs.twimg.com/profile_images/876853156004712450/aNx78oDW_normal.jpg', 'profile_image_url_https': 'https://pbs.twimg.com/profile_images/876853156004712450/aNx78oDW_normal.jpg', 'profile_banner_url': 'https://pbs.twimg.com/profile_banners/22948692/1457374881', 'profile_link_color': 'BA0B22', 'profile_sidebar_border_color': '000000', 'profile_sidebar_fill_color': 'EFEFEF', 'profile_text_color': '333333', 'profile_use_background_image': True, 'has_extended_profile': False, 'default_profile': False, 'default_profile_image': False, 'following': False, 'follow_request_sent': False, 'notifications': False, 'translator_type': 'none'}, 'geo': None, 'coordinates': None, 'place': None, 'contributors': None, 'is_quote_status': False, 'retweet_count': 4, 'favorite_count': 13, 'favorited': False, 'retweeted': False, 'possibly_sensitive': False, 'lang': 'en'}, 'retweet_count': 0, 'favorite_count': 0, 'favorited': False, 'retweeted': False, 'possibly_sensitive': False, 'lang': 'en'}, created_at=datetime.datetime(2020, 11, 22, 14, 2, 33), id=1330511994210971650, id_str='1330511994210971650', full_text=\"@abc15 you're really doing a disservice to the community by promoting #covid-19 testing as if it's a silver bullet. https://t.co/34ftp42oIa\", truncated=False, display_text_range=[0, 115], entities={'hashtags': [{'text': 'covid', 'indices': [70, 76]}], 'symbols': [], 'user_mentions': [{'screen_name': 'abc15', 'name': 'ABC15 Arizona', 'id': 9721292, 'id_str': '9721292', 'indices': [0, 6]}], 'urls': [{'url': 'https://t.co/34ftp42oIa', 'expanded_url': 'https://twitter.com/Local4News/status/1259960266479013888', 'display_url': 'twitter.com/Local4News/sta…', 'indices': [116, 139]}]}, metadata={'iso_language_code': 'en', 'result_type': 'recent'}, source='Twitter Web App', source_url='https://mobile.twitter.com', in_reply_to_status_id=None, in_reply_to_status_id_str=None, in_reply_to_user_id=9721292, in_reply_to_user_id_str='9721292', in_reply_to_screen_name='abc15', author=User(_api=<tweepy.api.API object at 0x000001EB5EECED48>, _json={'id': 829488246711218178, 'id_str': '829488246711218178', 'name': '🦄 kit10phish🦄', 'screen_name': 'kit10phish', 'location': 'Maricopa County ', 'description': '\"If we were logical, the future would be bleak, indeed. But we are more than logical, we are human beings, and we have faith, and we have hope. . .\"', 'url': None, 'entities': {'description': {'urls': []}}, 'protected': False, 'followers_count': 259, 'friends_count': 158, 'listed_count': 0, 'created_at': 'Thu Feb 09 00:33:03 +0000 2017', 'favourites_count': 64408, 'utc_offset': None, 'time_zone': None, 'geo_enabled': False, 'verified': False, 'statuses_count': 24293, 'lang': None, 'contributors_enabled': False, 'is_translator': False, 'is_translation_enabled': False, 'profile_background_color': '000000', 'profile_background_image_url': 'http://abs.twimg.com/images/themes/theme1/bg.png', 'profile_background_image_url_https': 'https://abs.twimg.com/images/themes/theme1/bg.png', 'profile_background_tile': False, 'profile_image_url': 'http://pbs.twimg.com/profile_images/829496086452514816/W3PN4mtO_normal.jpg', 'profile_image_url_https': 'https://pbs.twimg.com/profile_images/829496086452514816/W3PN4mtO_normal.jpg', 'profile_banner_url': 'https://pbs.twimg.com/profile_banners/829488246711218178/1486745351', 'profile_link_color': '981CEB', 'profile_sidebar_border_color': '000000', 'profile_sidebar_fill_color': '000000', 'profile_text_color': '000000', 'profile_use_background_image': False, 'has_extended_profile': True, 'default_profile': False, 'default_profile_image': False, 'following': False, 'follow_request_sent': False, 'notifications': False, 'translator_type': 'none'}, id=829488246711218178, id_str='829488246711218178', name='🦄 kit10phish🦄', screen_name='kit10phish', location='Maricopa County ', description='\"If we were logical, the future would be bleak, indeed. But we are more than logical, we are human beings, and we have faith, and we have hope. . .\"', url=None, entities={'description': {'urls': []}}, protected=False, followers_count=259, friends_count=158, listed_count=0, created_at=datetime.datetime(2017, 2, 9, 0, 33, 3), favourites_count=64408, utc_offset=None, time_zone=None, geo_enabled=False, verified=False, statuses_count=24293, lang=None, contributors_enabled=False, is_translator=False, is_translation_enabled=False, profile_background_color='000000', profile_background_image_url='http://abs.twimg.com/images/themes/theme1/bg.png', profile_background_image_url_https='https://abs.twimg.com/images/themes/theme1/bg.png', profile_background_tile=False, profile_image_url='http://pbs.twimg.com/profile_images/829496086452514816/W3PN4mtO_normal.jpg', profile_image_url_https='https://pbs.twimg.com/profile_images/829496086452514816/W3PN4mtO_normal.jpg', profile_banner_url='https://pbs.twimg.com/profile_banners/829488246711218178/1486745351', profile_link_color='981CEB', profile_sidebar_border_color='000000', profile_sidebar_fill_color='000000', profile_text_color='000000', profile_use_background_image=False, has_extended_profile=True, default_profile=False, default_profile_image=False, following=False, follow_request_sent=False, notifications=False, translator_type='none'), user=User(_api=<tweepy.api.API object at 0x000001EB5EECED48>, _json={'id': 829488246711218178, 'id_str': '829488246711218178', 'name': '🦄 kit10phish🦄', 'screen_name': 'kit10phish', 'location': 'Maricopa County ', 'description': '\"If we were logical, the future would be bleak, indeed. But we are more than logical, we are human beings, and we have faith, and we have hope. . .\"', 'url': None, 'entities': {'description': {'urls': []}}, 'protected': False, 'followers_count': 259, 'friends_count': 158, 'listed_count': 0, 'created_at': 'Thu Feb 09 00:33:03 +0000 2017', 'favourites_count': 64408, 'utc_offset': None, 'time_zone': None, 'geo_enabled': False, 'verified': False, 'statuses_count': 24293, 'lang': None, 'contributors_enabled': False, 'is_translator': False, 'is_translation_enabled': False, 'profile_background_color': '000000', 'profile_background_image_url': 'http://abs.twimg.com/images/themes/theme1/bg.png', 'profile_background_image_url_https': 'https://abs.twimg.com/images/themes/theme1/bg.png', 'profile_background_tile': False, 'profile_image_url': 'http://pbs.twimg.com/profile_images/829496086452514816/W3PN4mtO_normal.jpg', 'profile_image_url_https': 'https://pbs.twimg.com/profile_images/829496086452514816/W3PN4mtO_normal.jpg', 'profile_banner_url': 'https://pbs.twimg.com/profile_banners/829488246711218178/1486745351', 'profile_link_color': '981CEB', 'profile_sidebar_border_color': '000000', 'profile_sidebar_fill_color': '000000', 'profile_text_color': '000000', 'profile_use_background_image': False, 'has_extended_profile': True, 'default_profile': False, 'default_profile_image': False, 'following': False, 'follow_request_sent': False, 'notifications': False, 'translator_type': 'none'}, id=829488246711218178, id_str='829488246711218178', name='🦄 kit10phish🦄', screen_name='kit10phish', location='Maricopa County ', description='\"If we were logical, the future would be bleak, indeed. But we are more than logical, we are human beings, and we have faith, and we have hope. . .\"', url=None, entities={'description': {'urls': []}}, protected=False, followers_count=259, friends_count=158, listed_count=0, created_at=datetime.datetime(2017, 2, 9, 0, 33, 3), favourites_count=64408, utc_offset=None, time_zone=None, geo_enabled=False, verified=False, statuses_count=24293, lang=None, contributors_enabled=False, is_translator=False, is_translation_enabled=False, profile_background_color='000000', profile_background_image_url='http://abs.twimg.com/images/themes/theme1/bg.png', profile_background_image_url_https='https://abs.twimg.com/images/themes/theme1/bg.png', profile_background_tile=False, profile_image_url='http://pbs.twimg.com/profile_images/829496086452514816/W3PN4mtO_normal.jpg', profile_image_url_https='https://pbs.twimg.com/profile_images/829496086452514816/W3PN4mtO_normal.jpg', profile_banner_url='https://pbs.twimg.com/profile_banners/829488246711218178/1486745351', profile_link_color='981CEB', profile_sidebar_border_color='000000', profile_sidebar_fill_color='000000', profile_text_color='000000', profile_use_background_image=False, has_extended_profile=True, default_profile=False, default_profile_image=False, following=False, follow_request_sent=False, notifications=False, translator_type='none'), geo=None, coordinates=None, place=None, contributors=None, is_quote_status=True, quoted_status_id=1259960266479013888, quoted_status_id_str='1259960266479013888', quoted_status=Status(_api=<tweepy.api.API object at 0x000001EB5EECED48>, _json={'created_at': 'Mon May 11 21:35:11 +0000 2020', 'id': 1259960266479013888, 'id_str': '1259960266479013888', 'full_text': 'Why is there so much focus on coronavirus (COVID-19) testing when someone can test negative and then be exposed immediately afterward? https://t.co/otcePDgIW6', 'truncated': False, 'display_text_range': [0, 158], 'entities': {'hashtags': [], 'symbols': [], 'user_mentions': [], 'urls': [{'url': 'https://t.co/otcePDgIW6', 'expanded_url': 'https://www.clickondetroit.com/health/good-health/2020/05/11/why-does-coronavirus-covid-19-testing-matter-so-much/', 'display_url': 'clickondetroit.com/health/good-he…', 'indices': [135, 158]}]}, 'metadata': {'iso_language_code': 'en', 'result_type': 'recent'}, 'source': '<a href=\"https://mobile.twitter.com\" rel=\"nofollow\">Twitter Web App</a>', 'in_reply_to_status_id': None, 'in_reply_to_status_id_str': None, 'in_reply_to_user_id': None, 'in_reply_to_user_id_str': None, 'in_reply_to_screen_name': None, 'user': {'id': 22948692, 'id_str': '22948692', 'name': 'Local 4 WDIV Detroit', 'screen_name': 'Local4News', 'location': 'Detroit, MI', 'description': 'Covering the latest news in the Metro Detroit area and beyond. Tweets managed by @KenHaddad & @ClickOnDetroit. News tip? 📧 News@wdiv.com', 'url': 'https://t.co/jRtD3fY73L', 'entities': {'url': {'urls': [{'url': 'https://t.co/jRtD3fY73L', 'expanded_url': 'http://clickondetroit.com', 'display_url': 'clickondetroit.com', 'indices': [0, 23]}]}, 'description': {'urls': []}}, 'protected': False, 'followers_count': 413515, 'friends_count': 2377, 'listed_count': 2030, 'created_at': 'Thu Mar 05 17:35:23 +0000 2009', 'favourites_count': 4847, 'utc_offset': None, 'time_zone': None, 'geo_enabled': True, 'verified': True, 'statuses_count': 159985, 'lang': None, 'contributors_enabled': False, 'is_translator': False, 'is_translation_enabled': False, 'profile_background_color': 'CCCCCC', 'profile_background_image_url': 'http://abs.twimg.com/images/themes/theme14/bg.gif', 'profile_background_image_url_https': 'https://abs.twimg.com/images/themes/theme14/bg.gif', 'profile_background_tile': True, 'profile_image_url': 'http://pbs.twimg.com/profile_images/876853156004712450/aNx78oDW_normal.jpg', 'profile_image_url_https': 'https://pbs.twimg.com/profile_images/876853156004712450/aNx78oDW_normal.jpg', 'profile_banner_url': 'https://pbs.twimg.com/profile_banners/22948692/1457374881', 'profile_link_color': 'BA0B22', 'profile_sidebar_border_color': '000000', 'profile_sidebar_fill_color': 'EFEFEF', 'profile_text_color': '333333', 'profile_use_background_image': True, 'has_extended_profile': False, 'default_profile': False, 'default_profile_image': False, 'following': False, 'follow_request_sent': False, 'notifications': False, 'translator_type': 'none'}, 'geo': None, 'coordinates': None, 'place': None, 'contributors': None, 'is_quote_status': False, 'retweet_count': 4, 'favorite_count': 13, 'favorited': False, 'retweeted': False, 'possibly_sensitive': False, 'lang': 'en'}, created_at=datetime.datetime(2020, 5, 11, 21, 35, 11), id=1259960266479013888, id_str='1259960266479013888', full_text='Why is there so much focus on coronavirus (COVID-19) testing when someone can test negative and then be exposed immediately afterward? https://t.co/otcePDgIW6', truncated=False, display_text_range=[0, 158], entities={'hashtags': [], 'symbols': [], 'user_mentions': [], 'urls': [{'url': 'https://t.co/otcePDgIW6', 'expanded_url': 'https://www.clickondetroit.com/health/good-health/2020/05/11/why-does-coronavirus-covid-19-testing-matter-so-much/', 'display_url': 'clickondetroit.com/health/good-he…', 'indices': [135, 158]}]}, metadata={'iso_language_code': 'en', 'result_type': 'recent'}, source='Twitter Web App', source_url='https://mobile.twitter.com', in_reply_to_status_id=None, in_reply_to_status_id_str=None, in_reply_to_user_id=None, in_reply_to_user_id_str=None, in_reply_to_screen_name=None, author=User(_api=<tweepy.api.API object at 0x000001EB5EECED48>, _json={'id': 22948692, 'id_str': '22948692', 'name': 'Local 4 WDIV Detroit', 'screen_name': 'Local4News', 'location': 'Detroit, MI', 'description': 'Covering the latest news in the Metro Detroit area and beyond. Tweets managed by @KenHaddad & @ClickOnDetroit. News tip? 📧 News@wdiv.com', 'url': 'https://t.co/jRtD3fY73L', 'entities': {'url': {'urls': [{'url': 'https://t.co/jRtD3fY73L', 'expanded_url': 'http://clickondetroit.com', 'display_url': 'clickondetroit.com', 'indices': [0, 23]}]}, 'description': {'urls': []}}, 'protected': False, 'followers_count': 413515, 'friends_count': 2377, 'listed_count': 2030, 'created_at': 'Thu Mar 05 17:35:23 +0000 2009', 'favourites_count': 4847, 'utc_offset': None, 'time_zone': None, 'geo_enabled': True, 'verified': True, 'statuses_count': 159985, 'lang': None, 'contributors_enabled': False, 'is_translator': False, 'is_translation_enabled': False, 'profile_background_color': 'CCCCCC', 'profile_background_image_url': 'http://abs.twimg.com/images/themes/theme14/bg.gif', 'profile_background_image_url_https': 'https://abs.twimg.com/images/themes/theme14/bg.gif', 'profile_background_tile': True, 'profile_image_url': 'http://pbs.twimg.com/profile_images/876853156004712450/aNx78oDW_normal.jpg', 'profile_image_url_https': 'https://pbs.twimg.com/profile_images/876853156004712450/aNx78oDW_normal.jpg', 'profile_banner_url': 'https://pbs.twimg.com/profile_banners/22948692/1457374881', 'profile_link_color': 'BA0B22', 'profile_sidebar_border_color': '000000', 'profile_sidebar_fill_color': 'EFEFEF', 'profile_text_color': '333333', 'profile_use_background_image': True, 'has_extended_profile': False, 'default_profile': False, 'default_profile_image': False, 'following': False, 'follow_request_sent': False, 'notifications': False, 'translator_type': 'none'}, id=22948692, id_str='22948692', name='Local 4 WDIV Detroit', screen_name='Local4News', location='Detroit, MI', description='Covering the latest news in the Metro Detroit area and beyond. Tweets managed by @KenHaddad & @ClickOnDetroit. News tip? 📧 News@wdiv.com', url='https://t.co/jRtD3fY73L', entities={'url': {'urls': [{'url': 'https://t.co/jRtD3fY73L', 'expanded_url': 'http://clickondetroit.com', 'display_url': 'clickondetroit.com', 'indices': [0, 23]}]}, 'description': {'urls': []}}, protected=False, followers_count=413515, friends_count=2377, listed_count=2030, created_at=datetime.datetime(2009, 3, 5, 17, 35, 23), favourites_count=4847, utc_offset=None, time_zone=None, geo_enabled=True, verified=True, statuses_count=159985, lang=None, contributors_enabled=False, is_translator=False, is_translation_enabled=False, profile_background_color='CCCCCC', profile_background_image_url='http://abs.twimg.com/images/themes/theme14/bg.gif', profile_background_image_url_https='https://abs.twimg.com/images/themes/theme14/bg.gif', profile_background_tile=True, profile_image_url='http://pbs.twimg.com/profile_images/876853156004712450/aNx78oDW_normal.jpg', profile_image_url_https='https://pbs.twimg.com/profile_images/876853156004712450/aNx78oDW_normal.jpg', profile_banner_url='https://pbs.twimg.com/profile_banners/22948692/1457374881', profile_link_color='BA0B22', profile_sidebar_border_color='000000', profile_sidebar_fill_color='EFEFEF', profile_text_color='333333', profile_use_background_image=True, has_extended_profile=False, default_profile=False, default_profile_image=False, following=False, follow_request_sent=False, notifications=False, translator_type='none'), user=User(_api=<tweepy.api.API object at 0x000001EB5EECED48>, _json={'id': 22948692, 'id_str': '22948692', 'name': 'Local 4 WDIV Detroit', 'screen_name': 'Local4News', 'location': 'Detroit, MI', 'description': 'Covering the latest news in the Metro Detroit area and beyond. Tweets managed by @KenHaddad & @ClickOnDetroit. News tip? 📧 News@wdiv.com', 'url': 'https://t.co/jRtD3fY73L', 'entities': {'url': {'urls': [{'url': 'https://t.co/jRtD3fY73L', 'expanded_url': 'http://clickondetroit.com', 'display_url': 'clickondetroit.com', 'indices': [0, 23]}]}, 'description': {'urls': []}}, 'protected': False, 'followers_count': 413515, 'friends_count': 2377, 'listed_count': 2030, 'created_at': 'Thu Mar 05 17:35:23 +0000 2009', 'favourites_count': 4847, 'utc_offset': None, 'time_zone': None, 'geo_enabled': True, 'verified': True, 'statuses_count': 159985, 'lang': None, 'contributors_enabled': False, 'is_translator': False, 'is_translation_enabled': False, 'profile_background_color': 'CCCCCC', 'profile_background_image_url': 'http://abs.twimg.com/images/themes/theme14/bg.gif', 'profile_background_image_url_https': 'https://abs.twimg.com/images/themes/theme14/bg.gif', 'profile_background_tile': True, 'profile_image_url': 'http://pbs.twimg.com/profile_images/876853156004712450/aNx78oDW_normal.jpg', 'profile_image_url_https': 'https://pbs.twimg.com/profile_images/876853156004712450/aNx78oDW_normal.jpg', 'profile_banner_url': 'https://pbs.twimg.com/profile_banners/22948692/1457374881', 'profile_link_color': 'BA0B22', 'profile_sidebar_border_color': '000000', 'profile_sidebar_fill_color': 'EFEFEF', 'profile_text_color': '333333', 'profile_use_background_image': True, 'has_extended_profile': False, 'default_profile': False, 'default_profile_image': False, 'following': False, 'follow_request_sent': False, 'notifications': False, 'translator_type': 'none'}, id=22948692, id_str='22948692', name='Local 4 WDIV Detroit', screen_name='Local4News', location='Detroit, MI', description='Covering the latest news in the Metro Detroit area and beyond. Tweets managed by @KenHaddad & @ClickOnDetroit. News tip? 📧 News@wdiv.com', url='https://t.co/jRtD3fY73L', entities={'url': {'urls': [{'url': 'https://t.co/jRtD3fY73L', 'expanded_url': 'http://clickondetroit.com', 'display_url': 'clickondetroit.com', 'indices': [0, 23]}]}, 'description': {'urls': []}}, protected=False, followers_count=413515, friends_count=2377, listed_count=2030, created_at=datetime.datetime(2009, 3, 5, 17, 35, 23), favourites_count=4847, utc_offset=None, time_zone=None, geo_enabled=True, verified=True, statuses_count=159985, lang=None, contributors_enabled=False, is_translator=False, is_translation_enabled=False, profile_background_color='CCCCCC', profile_background_image_url='http://abs.twimg.com/images/themes/theme14/bg.gif', profile_background_image_url_https='https://abs.twimg.com/images/themes/theme14/bg.gif', profile_background_tile=True, profile_image_url='http://pbs.twimg.com/profile_images/876853156004712450/aNx78oDW_normal.jpg', profile_image_url_https='https://pbs.twimg.com/profile_images/876853156004712450/aNx78oDW_normal.jpg', profile_banner_url='https://pbs.twimg.com/profile_banners/22948692/1457374881', profile_link_color='BA0B22', profile_sidebar_border_color='000000', profile_sidebar_fill_color='EFEFEF', profile_text_color='333333', profile_use_background_image=True, has_extended_profile=False, default_profile=False, default_profile_image=False, following=False, follow_request_sent=False, notifications=False, translator_type='none'), geo=None, coordinates=None, place=None, contributors=None, is_quote_status=False, retweet_count=4, favorite_count=13, favorited=False, retweeted=False, possibly_sensitive=False, lang='en'), retweet_count=0, favorite_count=0, favorited=False, retweeted=False, possibly_sensitive=False, lang='en') \n",
      "\n",
      "******************************\n"
     ]
    }
   ],
   "source": [
    "tweets = api.search(query, count=10, lang='en',exclude='retweets',tweet_mode='extended')\n",
    "for tweet in tweets:\n",
    "    print(tweet,'\\n')\n",
    "    print('*'*30)\n"
   ]
  },
  {
   "cell_type": "code",
   "execution_count": 6,
   "metadata": {},
   "outputs": [
    {
     "name": "stdout",
     "output_type": "stream",
     "text": [
      "Empty DataFrame\n",
      "Columns: [Tweets, User, User_statuses_count, user_followers, User_location, User_verified, fav_count, rt_count, tweet_date]\n",
      "Index: []\n"
     ]
    }
   ],
   "source": [
    "df = pd.DataFrame(columns = ['Tweets' , 'User' , 'User_statuses_count' , \n",
    "                            'user_followers' , 'User_location' , 'User_verified' ,\n",
    "                            'fav_count' , 'rt_count' , 'tweet_date'] )\n",
    "print(df)\n"
   ]
  },
  {
   "cell_type": "code",
   "execution_count": 7,
   "metadata": {},
   "outputs": [],
   "source": [
    "def stream(data,file_name):\n",
    "    i=0\n",
    "    for tweet in tweepy.Cursor(api.search,q=data,count=100,lan='en').items():\n",
    "        print(i, end='\\r')\n",
    "        df.loc[i, 'Tweets'] = tweet.text\n",
    "        df.loc[i, 'User'] = tweet.user.name\n",
    "        df.loc[i, 'User_statuses_count'] = tweet.user.statuses_count\n",
    "        df.loc[i, 'user_followers'] = tweet.user.followers_count\n",
    "        df.loc[i, 'User_location'] = tweet.user.location\n",
    "        df.loc[i, 'User_verified'] = tweet.user.verified\n",
    "        df.loc[i, 'fav_count'] = tweet.favorite_count\n",
    "        df.loc[i, 'rt_count'] = tweet.retweet_count\n",
    "        df.loc[i, 'tweet_date'] = tweet.created_at\n",
    "        df.to_excel('{}.xlsx'.format(file_name))\n",
    "        i = i+1\n",
    "        if i == 1000:\n",
    "            break\n",
    "        else:\n",
    "            pass"
   ]
  },
  {
   "cell_type": "code",
   "execution_count": 8,
   "metadata": {},
   "outputs": [
    {
     "name": "stdout",
     "output_type": "stream",
     "text": [
      "999\r"
     ]
    }
   ],
   "source": [
    "stream(data=[\"Covid 19\"] , file_name='my_tweets')"
   ]
  },
  {
   "cell_type": "code",
   "execution_count": 9,
   "metadata": {},
   "outputs": [
    {
     "data": {
      "text/html": [
       "<div>\n",
       "<style scoped>\n",
       "    .dataframe tbody tr th:only-of-type {\n",
       "        vertical-align: middle;\n",
       "    }\n",
       "\n",
       "    .dataframe tbody tr th {\n",
       "        vertical-align: top;\n",
       "    }\n",
       "\n",
       "    .dataframe thead th {\n",
       "        text-align: right;\n",
       "    }\n",
       "</style>\n",
       "<table border=\"1\" class=\"dataframe\">\n",
       "  <thead>\n",
       "    <tr style=\"text-align: right;\">\n",
       "      <th></th>\n",
       "      <th>Tweets</th>\n",
       "      <th>User</th>\n",
       "      <th>User_statuses_count</th>\n",
       "      <th>user_followers</th>\n",
       "      <th>User_location</th>\n",
       "      <th>User_verified</th>\n",
       "      <th>fav_count</th>\n",
       "      <th>rt_count</th>\n",
       "      <th>tweet_date</th>\n",
       "    </tr>\n",
       "  </thead>\n",
       "  <tbody>\n",
       "    <tr>\n",
       "      <th>0</th>\n",
       "      <td>RT @IAIM_VE: #LaPrevenciónEsLaClave || El #IAI...</td>\n",
       "      <td>@eurycatier</td>\n",
       "      <td>7549</td>\n",
       "      <td>24</td>\n",
       "      <td></td>\n",
       "      <td>False</td>\n",
       "      <td>0</td>\n",
       "      <td>66</td>\n",
       "      <td>2020-11-22 13:58:57</td>\n",
       "    </tr>\n",
       "    <tr>\n",
       "      <th>1</th>\n",
       "      <td>@leJDD \"Un café tous les matins pourrait prése...</td>\n",
       "      <td>Laurent 🇪🇺</td>\n",
       "      <td>4270</td>\n",
       "      <td>29</td>\n",
       "      <td>France</td>\n",
       "      <td>False</td>\n",
       "      <td>0</td>\n",
       "      <td>0</td>\n",
       "      <td>2020-11-22 13:58:57</td>\n",
       "    </tr>\n",
       "    <tr>\n",
       "      <th>2</th>\n",
       "      <td>Sunak paves way for big tax rises to pay for C...</td>\n",
       "      <td>Leonardo E. Stanley</td>\n",
       "      <td>25081</td>\n",
       "      <td>490</td>\n",
       "      <td>Buenos Aires, Argentina</td>\n",
       "      <td>False</td>\n",
       "      <td>0</td>\n",
       "      <td>0</td>\n",
       "      <td>2020-11-22 13:58:57</td>\n",
       "    </tr>\n",
       "    <tr>\n",
       "      <th>3</th>\n",
       "      <td>RT @people4kam: BREAKING: Georgia Senate candi...</td>\n",
       "      <td>eileen mcdonald</td>\n",
       "      <td>47097</td>\n",
       "      <td>762</td>\n",
       "      <td></td>\n",
       "      <td>False</td>\n",
       "      <td>0</td>\n",
       "      <td>2022</td>\n",
       "      <td>2020-11-22 13:58:57</td>\n",
       "    </tr>\n",
       "    <tr>\n",
       "      <th>4</th>\n",
       "      <td>RT @neiltyson: We assemble Into tribes based o...</td>\n",
       "      <td>wiro</td>\n",
       "      <td>10518</td>\n",
       "      <td>137</td>\n",
       "      <td>Santiago Bernabeu</td>\n",
       "      <td>False</td>\n",
       "      <td>0</td>\n",
       "      <td>4043</td>\n",
       "      <td>2020-11-22 13:58:57</td>\n",
       "    </tr>\n",
       "    <tr>\n",
       "      <th>...</th>\n",
       "      <td>...</td>\n",
       "      <td>...</td>\n",
       "      <td>...</td>\n",
       "      <td>...</td>\n",
       "      <td>...</td>\n",
       "      <td>...</td>\n",
       "      <td>...</td>\n",
       "      <td>...</td>\n",
       "      <td>...</td>\n",
       "    </tr>\n",
       "    <tr>\n",
       "      <th>995</th>\n",
       "      <td>RT @CBSNews: Texas National Guard deployed to ...</td>\n",
       "      <td>Dogslife</td>\n",
       "      <td>3476</td>\n",
       "      <td>10</td>\n",
       "      <td>Florida, USA</td>\n",
       "      <td>False</td>\n",
       "      <td>0</td>\n",
       "      <td>54</td>\n",
       "      <td>2020-11-22 13:56:49</td>\n",
       "    </tr>\n",
       "    <tr>\n",
       "      <th>996</th>\n",
       "      <td>RT @JoeBiden: Anyone who wants a COVID-19 test...</td>\n",
       "      <td>Bro_nco5 🐺</td>\n",
       "      <td>669</td>\n",
       "      <td>52</td>\n",
       "      <td></td>\n",
       "      <td>False</td>\n",
       "      <td>0</td>\n",
       "      <td>44534</td>\n",
       "      <td>2020-11-22 13:56:49</td>\n",
       "    </tr>\n",
       "    <tr>\n",
       "      <th>997</th>\n",
       "      <td>#2 loving and praying for one another. Instead...</td>\n",
       "      <td>Pagendra</td>\n",
       "      <td>8135</td>\n",
       "      <td>57</td>\n",
       "      <td></td>\n",
       "      <td>False</td>\n",
       "      <td>0</td>\n",
       "      <td>0</td>\n",
       "      <td>2020-11-22 13:56:49</td>\n",
       "    </tr>\n",
       "    <tr>\n",
       "      <th>998</th>\n",
       "      <td>RT @mattyglesias: What is going on at the FDA?...</td>\n",
       "      <td>Kimmie</td>\n",
       "      <td>10831</td>\n",
       "      <td>148</td>\n",
       "      <td>Texas, USA</td>\n",
       "      <td>False</td>\n",
       "      <td>0</td>\n",
       "      <td>12</td>\n",
       "      <td>2020-11-22 13:56:49</td>\n",
       "    </tr>\n",
       "    <tr>\n",
       "      <th>999</th>\n",
       "      <td>Both the Clarkson women's and men's hockey gam...</td>\n",
       "      <td>NNY360 &amp; WDT Sports</td>\n",
       "      <td>43801</td>\n",
       "      <td>3980</td>\n",
       "      <td>Watertown, NY</td>\n",
       "      <td>False</td>\n",
       "      <td>0</td>\n",
       "      <td>0</td>\n",
       "      <td>2020-11-22 13:56:49</td>\n",
       "    </tr>\n",
       "  </tbody>\n",
       "</table>\n",
       "<p>1000 rows × 9 columns</p>\n",
       "</div>"
      ],
      "text/plain": [
       "                                                Tweets                 User  \\\n",
       "0    RT @IAIM_VE: #LaPrevenciónEsLaClave || El #IAI...          @eurycatier   \n",
       "1    @leJDD \"Un café tous les matins pourrait prése...           Laurent 🇪🇺   \n",
       "2    Sunak paves way for big tax rises to pay for C...  Leonardo E. Stanley   \n",
       "3    RT @people4kam: BREAKING: Georgia Senate candi...      eileen mcdonald   \n",
       "4    RT @neiltyson: We assemble Into tribes based o...                 wiro   \n",
       "..                                                 ...                  ...   \n",
       "995  RT @CBSNews: Texas National Guard deployed to ...             Dogslife   \n",
       "996  RT @JoeBiden: Anyone who wants a COVID-19 test...           Bro_nco5 🐺   \n",
       "997  #2 loving and praying for one another. Instead...             Pagendra   \n",
       "998  RT @mattyglesias: What is going on at the FDA?...               Kimmie   \n",
       "999  Both the Clarkson women's and men's hockey gam...  NNY360 & WDT Sports   \n",
       "\n",
       "    User_statuses_count user_followers            User_location User_verified  \\\n",
       "0                  7549             24                                  False   \n",
       "1                  4270             29                   France         False   \n",
       "2                 25081            490  Buenos Aires, Argentina         False   \n",
       "3                 47097            762                                  False   \n",
       "4                 10518            137       Santiago Bernabeu          False   \n",
       "..                  ...            ...                      ...           ...   \n",
       "995                3476             10             Florida, USA         False   \n",
       "996                 669             52                                  False   \n",
       "997                8135             57                                  False   \n",
       "998               10831            148               Texas, USA         False   \n",
       "999               43801           3980            Watertown, NY         False   \n",
       "\n",
       "    fav_count rt_count           tweet_date  \n",
       "0           0       66  2020-11-22 13:58:57  \n",
       "1           0        0  2020-11-22 13:58:57  \n",
       "2           0        0  2020-11-22 13:58:57  \n",
       "3           0     2022  2020-11-22 13:58:57  \n",
       "4           0     4043  2020-11-22 13:58:57  \n",
       "..        ...      ...                  ...  \n",
       "995         0       54  2020-11-22 13:56:49  \n",
       "996         0    44534  2020-11-22 13:56:49  \n",
       "997         0        0  2020-11-22 13:56:49  \n",
       "998         0       12  2020-11-22 13:56:49  \n",
       "999         0        0  2020-11-22 13:56:49  \n",
       "\n",
       "[1000 rows x 9 columns]"
      ]
     },
     "execution_count": 9,
     "metadata": {},
     "output_type": "execute_result"
    }
   ],
   "source": [
    "df"
   ]
  },
  {
   "cell_type": "code",
   "execution_count": 10,
   "metadata": {},
   "outputs": [
    {
     "name": "stdout",
     "output_type": "stream",
     "text": [
      "Requirement already satisfied: textblob in c:\\users\\lenovo\\anaconda3\\lib\\site-packages (0.15.3)\n",
      "Requirement already satisfied: nltk>=3.1 in c:\\users\\lenovo\\anaconda3\\lib\\site-packages (from textblob) (3.4.5)\n",
      "Requirement already satisfied: six in c:\\users\\lenovo\\anaconda3\\lib\\site-packages (from nltk>=3.1->textblob) (1.14.0)\n"
     ]
    }
   ],
   "source": [
    "!pip install textblob"
   ]
  },
  {
   "cell_type": "code",
   "execution_count": 11,
   "metadata": {},
   "outputs": [],
   "source": [
    "from textblob import TextBlob"
   ]
  },
  {
   "cell_type": "code",
   "execution_count": 12,
   "metadata": {},
   "outputs": [],
   "source": [
    "import re\n",
    "def clean_tweet(tweet):\n",
    "    return ' '.join(re.sub('(@[A-Za-z0-9]+)|([^0-9A-Za-z \\t])|(\\w+:\\/\\/\\S+)', ' ', tweet).split())"
   ]
  },
  {
   "cell_type": "code",
   "execution_count": 13,
   "metadata": {},
   "outputs": [],
   "source": [
    "def analyze_sentiment(tweet):\n",
    "    analysis = TextBlob(tweet)\n",
    "    if analysis.sentiment.polarity > 0:\n",
    "        return 'Positive'\n",
    "    elif analysis.sentiment.polarity == 0:\n",
    "        return 'Neutral'\n",
    "    else:\n",
    "        return 'Negative'"
   ]
  },
  {
   "cell_type": "code",
   "execution_count": 14,
   "metadata": {},
   "outputs": [],
   "source": [
    "df['clean_tweet'] = df['Tweets'].apply(lambda x : clean_tweet(x))"
   ]
  },
  {
   "cell_type": "code",
   "execution_count": 15,
   "metadata": {},
   "outputs": [
    {
     "data": {
      "text/html": [
       "<div>\n",
       "<style scoped>\n",
       "    .dataframe tbody tr th:only-of-type {\n",
       "        vertical-align: middle;\n",
       "    }\n",
       "\n",
       "    .dataframe tbody tr th {\n",
       "        vertical-align: top;\n",
       "    }\n",
       "\n",
       "    .dataframe thead th {\n",
       "        text-align: right;\n",
       "    }\n",
       "</style>\n",
       "<table border=\"1\" class=\"dataframe\">\n",
       "  <thead>\n",
       "    <tr style=\"text-align: right;\">\n",
       "      <th></th>\n",
       "      <th>Tweets</th>\n",
       "      <th>User</th>\n",
       "      <th>User_statuses_count</th>\n",
       "      <th>user_followers</th>\n",
       "      <th>User_location</th>\n",
       "      <th>User_verified</th>\n",
       "      <th>fav_count</th>\n",
       "      <th>rt_count</th>\n",
       "      <th>tweet_date</th>\n",
       "      <th>clean_tweet</th>\n",
       "    </tr>\n",
       "  </thead>\n",
       "  <tbody>\n",
       "    <tr>\n",
       "      <th>0</th>\n",
       "      <td>RT @IAIM_VE: #LaPrevenciónEsLaClave || El #IAI...</td>\n",
       "      <td>@eurycatier</td>\n",
       "      <td>7549</td>\n",
       "      <td>24</td>\n",
       "      <td></td>\n",
       "      <td>False</td>\n",
       "      <td>0</td>\n",
       "      <td>66</td>\n",
       "      <td>2020-11-22 13:58:57</td>\n",
       "      <td>RT VE LaPrevenci nEsLaClave El IAIM te invita ...</td>\n",
       "    </tr>\n",
       "    <tr>\n",
       "      <th>1</th>\n",
       "      <td>@leJDD \"Un café tous les matins pourrait prése...</td>\n",
       "      <td>Laurent 🇪🇺</td>\n",
       "      <td>4270</td>\n",
       "      <td>29</td>\n",
       "      <td>France</td>\n",
       "      <td>False</td>\n",
       "      <td>0</td>\n",
       "      <td>0</td>\n",
       "      <td>2020-11-22 13:58:57</td>\n",
       "      <td>Un caf tous les matins pourrait pr senter un i...</td>\n",
       "    </tr>\n",
       "    <tr>\n",
       "      <th>2</th>\n",
       "      <td>Sunak paves way for big tax rises to pay for C...</td>\n",
       "      <td>Leonardo E. Stanley</td>\n",
       "      <td>25081</td>\n",
       "      <td>490</td>\n",
       "      <td>Buenos Aires, Argentina</td>\n",
       "      <td>False</td>\n",
       "      <td>0</td>\n",
       "      <td>0</td>\n",
       "      <td>2020-11-22 13:58:57</td>\n",
       "      <td>Sunak paves way for big tax rises to pay for C...</td>\n",
       "    </tr>\n",
       "    <tr>\n",
       "      <th>3</th>\n",
       "      <td>RT @people4kam: BREAKING: Georgia Senate candi...</td>\n",
       "      <td>eileen mcdonald</td>\n",
       "      <td>47097</td>\n",
       "      <td>762</td>\n",
       "      <td></td>\n",
       "      <td>False</td>\n",
       "      <td>0</td>\n",
       "      <td>2022</td>\n",
       "      <td>2020-11-22 13:58:57</td>\n",
       "      <td>RT BREAKING Georgia Senate candidate Kelly Loe...</td>\n",
       "    </tr>\n",
       "    <tr>\n",
       "      <th>4</th>\n",
       "      <td>RT @neiltyson: We assemble Into tribes based o...</td>\n",
       "      <td>wiro</td>\n",
       "      <td>10518</td>\n",
       "      <td>137</td>\n",
       "      <td>Santiago Bernabeu</td>\n",
       "      <td>False</td>\n",
       "      <td>0</td>\n",
       "      <td>4043</td>\n",
       "      <td>2020-11-22 13:58:57</td>\n",
       "      <td>RT We assemble Into tribes based on politics r...</td>\n",
       "    </tr>\n",
       "  </tbody>\n",
       "</table>\n",
       "</div>"
      ],
      "text/plain": [
       "                                              Tweets                 User  \\\n",
       "0  RT @IAIM_VE: #LaPrevenciónEsLaClave || El #IAI...          @eurycatier   \n",
       "1  @leJDD \"Un café tous les matins pourrait prése...           Laurent 🇪🇺   \n",
       "2  Sunak paves way for big tax rises to pay for C...  Leonardo E. Stanley   \n",
       "3  RT @people4kam: BREAKING: Georgia Senate candi...      eileen mcdonald   \n",
       "4  RT @neiltyson: We assemble Into tribes based o...                 wiro   \n",
       "\n",
       "  User_statuses_count user_followers            User_location User_verified  \\\n",
       "0                7549             24                                  False   \n",
       "1                4270             29                   France         False   \n",
       "2               25081            490  Buenos Aires, Argentina         False   \n",
       "3               47097            762                                  False   \n",
       "4               10518            137       Santiago Bernabeu          False   \n",
       "\n",
       "  fav_count rt_count           tweet_date  \\\n",
       "0         0       66  2020-11-22 13:58:57   \n",
       "1         0        0  2020-11-22 13:58:57   \n",
       "2         0        0  2020-11-22 13:58:57   \n",
       "3         0     2022  2020-11-22 13:58:57   \n",
       "4         0     4043  2020-11-22 13:58:57   \n",
       "\n",
       "                                         clean_tweet  \n",
       "0  RT VE LaPrevenci nEsLaClave El IAIM te invita ...  \n",
       "1  Un caf tous les matins pourrait pr senter un i...  \n",
       "2  Sunak paves way for big tax rises to pay for C...  \n",
       "3  RT BREAKING Georgia Senate candidate Kelly Loe...  \n",
       "4  RT We assemble Into tribes based on politics r...  "
      ]
     },
     "execution_count": 15,
     "metadata": {},
     "output_type": "execute_result"
    }
   ],
   "source": [
    "df.head()"
   ]
  },
  {
   "cell_type": "code",
   "execution_count": 16,
   "metadata": {},
   "outputs": [
    {
     "data": {
      "text/html": [
       "<div>\n",
       "<style scoped>\n",
       "    .dataframe tbody tr th:only-of-type {\n",
       "        vertical-align: middle;\n",
       "    }\n",
       "\n",
       "    .dataframe tbody tr th {\n",
       "        vertical-align: top;\n",
       "    }\n",
       "\n",
       "    .dataframe thead th {\n",
       "        text-align: right;\n",
       "    }\n",
       "</style>\n",
       "<table border=\"1\" class=\"dataframe\">\n",
       "  <thead>\n",
       "    <tr style=\"text-align: right;\">\n",
       "      <th></th>\n",
       "      <th>Tweets</th>\n",
       "      <th>User</th>\n",
       "      <th>User_statuses_count</th>\n",
       "      <th>user_followers</th>\n",
       "      <th>User_location</th>\n",
       "      <th>User_verified</th>\n",
       "      <th>fav_count</th>\n",
       "      <th>rt_count</th>\n",
       "      <th>tweet_date</th>\n",
       "      <th>clean_tweet</th>\n",
       "      <th>Sentiment</th>\n",
       "    </tr>\n",
       "  </thead>\n",
       "  <tbody>\n",
       "    <tr>\n",
       "      <th>0</th>\n",
       "      <td>RT @IAIM_VE: #LaPrevenciónEsLaClave || El #IAI...</td>\n",
       "      <td>@eurycatier</td>\n",
       "      <td>7549</td>\n",
       "      <td>24</td>\n",
       "      <td></td>\n",
       "      <td>False</td>\n",
       "      <td>0</td>\n",
       "      <td>66</td>\n",
       "      <td>2020-11-22 13:58:57</td>\n",
       "      <td>RT VE LaPrevenci nEsLaClave El IAIM te invita ...</td>\n",
       "      <td>Neutral</td>\n",
       "    </tr>\n",
       "    <tr>\n",
       "      <th>1</th>\n",
       "      <td>@leJDD \"Un café tous les matins pourrait prése...</td>\n",
       "      <td>Laurent 🇪🇺</td>\n",
       "      <td>4270</td>\n",
       "      <td>29</td>\n",
       "      <td>France</td>\n",
       "      <td>False</td>\n",
       "      <td>0</td>\n",
       "      <td>0</td>\n",
       "      <td>2020-11-22 13:58:57</td>\n",
       "      <td>Un caf tous les matins pourrait pr senter un i...</td>\n",
       "      <td>Neutral</td>\n",
       "    </tr>\n",
       "    <tr>\n",
       "      <th>2</th>\n",
       "      <td>Sunak paves way for big tax rises to pay for C...</td>\n",
       "      <td>Leonardo E. Stanley</td>\n",
       "      <td>25081</td>\n",
       "      <td>490</td>\n",
       "      <td>Buenos Aires, Argentina</td>\n",
       "      <td>False</td>\n",
       "      <td>0</td>\n",
       "      <td>0</td>\n",
       "      <td>2020-11-22 13:58:57</td>\n",
       "      <td>Sunak paves way for big tax rises to pay for C...</td>\n",
       "      <td>Neutral</td>\n",
       "    </tr>\n",
       "    <tr>\n",
       "      <th>3</th>\n",
       "      <td>RT @people4kam: BREAKING: Georgia Senate candi...</td>\n",
       "      <td>eileen mcdonald</td>\n",
       "      <td>47097</td>\n",
       "      <td>762</td>\n",
       "      <td></td>\n",
       "      <td>False</td>\n",
       "      <td>0</td>\n",
       "      <td>2022</td>\n",
       "      <td>2020-11-22 13:58:57</td>\n",
       "      <td>RT BREAKING Georgia Senate candidate Kelly Loe...</td>\n",
       "      <td>Positive</td>\n",
       "    </tr>\n",
       "    <tr>\n",
       "      <th>4</th>\n",
       "      <td>RT @neiltyson: We assemble Into tribes based o...</td>\n",
       "      <td>wiro</td>\n",
       "      <td>10518</td>\n",
       "      <td>137</td>\n",
       "      <td>Santiago Bernabeu</td>\n",
       "      <td>False</td>\n",
       "      <td>0</td>\n",
       "      <td>4043</td>\n",
       "      <td>2020-11-22 13:58:57</td>\n",
       "      <td>RT We assemble Into tribes based on politics r...</td>\n",
       "      <td>Neutral</td>\n",
       "    </tr>\n",
       "  </tbody>\n",
       "</table>\n",
       "</div>"
      ],
      "text/plain": [
       "                                              Tweets                 User  \\\n",
       "0  RT @IAIM_VE: #LaPrevenciónEsLaClave || El #IAI...          @eurycatier   \n",
       "1  @leJDD \"Un café tous les matins pourrait prése...           Laurent 🇪🇺   \n",
       "2  Sunak paves way for big tax rises to pay for C...  Leonardo E. Stanley   \n",
       "3  RT @people4kam: BREAKING: Georgia Senate candi...      eileen mcdonald   \n",
       "4  RT @neiltyson: We assemble Into tribes based o...                 wiro   \n",
       "\n",
       "  User_statuses_count user_followers            User_location User_verified  \\\n",
       "0                7549             24                                  False   \n",
       "1                4270             29                   France         False   \n",
       "2               25081            490  Buenos Aires, Argentina         False   \n",
       "3               47097            762                                  False   \n",
       "4               10518            137       Santiago Bernabeu          False   \n",
       "\n",
       "  fav_count rt_count           tweet_date  \\\n",
       "0         0       66  2020-11-22 13:58:57   \n",
       "1         0        0  2020-11-22 13:58:57   \n",
       "2         0        0  2020-11-22 13:58:57   \n",
       "3         0     2022  2020-11-22 13:58:57   \n",
       "4         0     4043  2020-11-22 13:58:57   \n",
       "\n",
       "                                         clean_tweet Sentiment  \n",
       "0  RT VE LaPrevenci nEsLaClave El IAIM te invita ...   Neutral  \n",
       "1  Un caf tous les matins pourrait pr senter un i...   Neutral  \n",
       "2  Sunak paves way for big tax rises to pay for C...   Neutral  \n",
       "3  RT BREAKING Georgia Senate candidate Kelly Loe...  Positive  \n",
       "4  RT We assemble Into tribes based on politics r...   Neutral  "
      ]
     },
     "execution_count": 16,
     "metadata": {},
     "output_type": "execute_result"
    }
   ],
   "source": [
    "df['Sentiment'] = df['clean_tweet'].apply(lambda x : analyze_sentiment(x) )\n",
    "df.head()"
   ]
  },
  {
   "cell_type": "code",
   "execution_count": 17,
   "metadata": {},
   "outputs": [
    {
     "name": "stdout",
     "output_type": "stream",
     "text": [
      "Original tweet:\n",
      " @leJDD \"Un café tous les matins pourrait présenter un intérêt contre le Covid-19, mais il n'y a pas encore de preuve\"\n",
      "\n",
      "Clean tweet:\n",
      " Un caf tous les matins pourrait pr senter un int r t contre le Covid 19 mais il n y a pas encore de preuve\n",
      "\n",
      "Sentiment of the tweet:\n",
      " Neutral\n"
     ]
    }
   ],
   "source": [
    "n = 1\n",
    "print(\"Original tweet:\\n\",df['Tweets'][n])\n",
    "print()\n",
    "print(\"Clean tweet:\\n\",df['clean_tweet'][n])\n",
    "print()\n",
    "print(\"Sentiment of the tweet:\\n\",df['Sentiment'][n])"
   ]
  },
  {
   "cell_type": "code",
   "execution_count": 18,
   "metadata": {},
   "outputs": [
    {
     "name": "stdout",
     "output_type": "stream",
     "text": [
      "Original tweet:\n",
      " RT @AdelisPerez17: #22Nov🇻🇪📢ET DEL DÍA! \n",
      "▶#GanemosLaBatallaAlCovid19\n",
      "¡Vamos a Ganarle la Batalla al Covid-19! @Mippcivzla @AilagmiM @GHA806…\n",
      "\n",
      "Clean tweet:\n",
      " RT 22Nov ET DEL D A GanemosLaBatallaAlCovid19 Vamos a Ganarle la Batalla al Covid 19\n",
      "\n",
      "Sentiment of the tweet:\n",
      " Neutral\n"
     ]
    }
   ],
   "source": [
    "n = 20\n",
    "print(\"Original tweet:\\n\",df['Tweets'][n])\n",
    "print()\n",
    "print(\"Clean tweet:\\n\",df['clean_tweet'][n])\n",
    "print()\n",
    "print(\"Sentiment of the tweet:\\n\",df['Sentiment'][n])"
   ]
  },
  {
   "cell_type": "code",
   "execution_count": 19,
   "metadata": {},
   "outputs": [
    {
     "data": {
      "text/plain": [
       "235"
      ]
     },
     "execution_count": 19,
     "metadata": {},
     "output_type": "execute_result"
    }
   ],
   "source": [
    "df[df.Sentiment == 'Positive'].shape[0]"
   ]
  },
  {
   "cell_type": "code",
   "execution_count": 20,
   "metadata": {},
   "outputs": [
    {
     "data": {
      "text/plain": [
       "682"
      ]
     },
     "execution_count": 20,
     "metadata": {},
     "output_type": "execute_result"
    }
   ],
   "source": [
    "df[df.Sentiment == 'Neutral'].shape[0]"
   ]
  },
  {
   "cell_type": "code",
   "execution_count": 21,
   "metadata": {},
   "outputs": [
    {
     "data": {
      "text/plain": [
       "83"
      ]
     },
     "execution_count": 21,
     "metadata": {},
     "output_type": "execute_result"
    }
   ],
   "source": [
    "df[df.Sentiment == 'Negative'].shape[0]"
   ]
  },
  {
   "cell_type": "code",
   "execution_count": null,
   "metadata": {},
   "outputs": [],
   "source": []
  },
  {
   "cell_type": "code",
   "execution_count": null,
   "metadata": {},
   "outputs": [],
   "source": []
  }
 ],
 "metadata": {
  "kernelspec": {
   "display_name": "Python 3",
   "language": "python",
   "name": "python3"
  },
  "language_info": {
   "codemirror_mode": {
    "name": "ipython",
    "version": 3
   },
   "file_extension": ".py",
   "mimetype": "text/x-python",
   "name": "python",
   "nbconvert_exporter": "python",
   "pygments_lexer": "ipython3",
   "version": "3.7.6"
  }
 },
 "nbformat": 4,
 "nbformat_minor": 4
}
